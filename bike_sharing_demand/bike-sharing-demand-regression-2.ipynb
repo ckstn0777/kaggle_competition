{
 "cells": [
  {
   "cell_type": "markdown",
   "id": "2ee15545",
   "metadata": {
    "papermill": {
     "duration": 0.011395,
     "end_time": "2022-06-03T12:47:26.279777",
     "exception": false,
     "start_time": "2022-06-03T12:47:26.268382",
     "status": "completed"
    },
    "tags": []
   },
   "source": [
    "## 필수 라이브러리 import"
   ]
  },
  {
   "cell_type": "code",
   "execution_count": 1,
   "id": "e58d7ee1",
   "metadata": {
    "execution": {
     "iopub.execute_input": "2022-06-03T12:47:26.298890Z",
     "iopub.status.busy": "2022-06-03T12:47:26.298376Z",
     "iopub.status.idle": "2022-06-03T12:47:26.309608Z",
     "shell.execute_reply": "2022-06-03T12:47:26.308285Z"
    },
    "papermill": {
     "duration": 0.0241,
     "end_time": "2022-06-03T12:47:26.312295",
     "exception": false,
     "start_time": "2022-06-03T12:47:26.288195",
     "status": "completed"
    },
    "tags": []
   },
   "outputs": [],
   "source": [
    "import numpy as np\n",
    "import pandas as pd\n",
    "import matplotlib.pyplot as plt"
   ]
  },
  {
   "cell_type": "markdown",
   "id": "028896bc",
   "metadata": {
    "papermill": {
     "duration": 0.007931,
     "end_time": "2022-06-03T12:47:26.328432",
     "exception": false,
     "start_time": "2022-06-03T12:47:26.320501",
     "status": "completed"
    },
    "tags": []
   },
   "source": [
    "## 데이터 불러오기"
   ]
  },
  {
   "cell_type": "code",
   "execution_count": 2,
   "id": "27743461",
   "metadata": {
    "execution": {
     "iopub.execute_input": "2022-06-03T12:47:26.347279Z",
     "iopub.status.busy": "2022-06-03T12:47:26.346155Z",
     "iopub.status.idle": "2022-06-03T12:47:26.426721Z",
     "shell.execute_reply": "2022-06-03T12:47:26.425714Z"
    },
    "papermill": {
     "duration": 0.092886,
     "end_time": "2022-06-03T12:47:26.429459",
     "exception": false,
     "start_time": "2022-06-03T12:47:26.336573",
     "status": "completed"
    },
    "tags": []
   },
   "outputs": [],
   "source": [
    "PATH = '/kaggle/input/bike-sharing-demand/'\n",
    "\n",
    "train = pd.read_csv(PATH + 'train.csv')\n",
    "test = pd.read_csv(PATH + 'test.csv')\n",
    "submission = pd.read_csv(PATH + 'sampleSubmission.csv')"
   ]
  },
  {
   "cell_type": "markdown",
   "id": "ea19895b",
   "metadata": {
    "papermill": {
     "duration": 0.008238,
     "end_time": "2022-06-03T12:47:26.445888",
     "exception": false,
     "start_time": "2022-06-03T12:47:26.437650",
     "status": "completed"
    },
    "tags": []
   },
   "source": [
    "## 데이터 전처리"
   ]
  },
  {
   "cell_type": "markdown",
   "id": "c8884ac2",
   "metadata": {
    "papermill": {
     "duration": 0.007988,
     "end_time": "2022-06-03T12:47:26.462348",
     "exception": false,
     "start_time": "2022-06-03T12:47:26.454360",
     "status": "completed"
    },
    "tags": []
   },
   "source": [
    "### 이상치 제거"
   ]
  },
  {
   "cell_type": "code",
   "execution_count": 3,
   "id": "ec418cd9",
   "metadata": {
    "execution": {
     "iopub.execute_input": "2022-06-03T12:47:26.481045Z",
     "iopub.status.busy": "2022-06-03T12:47:26.480524Z",
     "iopub.status.idle": "2022-06-03T12:47:26.494257Z",
     "shell.execute_reply": "2022-06-03T12:47:26.493367Z"
    },
    "papermill": {
     "duration": 0.025853,
     "end_time": "2022-06-03T12:47:26.496327",
     "exception": false,
     "start_time": "2022-06-03T12:47:26.470474",
     "status": "completed"
    },
    "tags": []
   },
   "outputs": [],
   "source": [
    "# 날씨가 4인 데이터에서 수요가 있었던 경우는 극히 일부이므로 이상 데이터로 취급해서 제거해줌\n",
    "train = train[train['weather'] != 4]"
   ]
  },
  {
   "cell_type": "markdown",
   "id": "7842f595",
   "metadata": {
    "papermill": {
     "duration": 0.007946,
     "end_time": "2022-06-03T12:47:26.512402",
     "exception": false,
     "start_time": "2022-06-03T12:47:26.504456",
     "status": "completed"
    },
    "tags": []
   },
   "source": [
    "### 데이터 합치기\n",
    "- 훈련 데이터와 테스트 데이터에 같은 피처 엔지니어링을 적용하기 위해 합쳐줌"
   ]
  },
  {
   "cell_type": "code",
   "execution_count": 4,
   "id": "8c44902e",
   "metadata": {
    "execution": {
     "iopub.execute_input": "2022-06-03T12:47:26.531137Z",
     "iopub.status.busy": "2022-06-03T12:47:26.530325Z",
     "iopub.status.idle": "2022-06-03T12:47:26.540915Z",
     "shell.execute_reply": "2022-06-03T12:47:26.540091Z"
    },
    "papermill": {
     "duration": 0.022617,
     "end_time": "2022-06-03T12:47:26.543043",
     "exception": false,
     "start_time": "2022-06-03T12:47:26.520426",
     "status": "completed"
    },
    "tags": []
   },
   "outputs": [],
   "source": [
    "# ignore_index=True하면 인덱스 재배열 해줌\n",
    "all_data = pd.concat([train, test], ignore_index=True)"
   ]
  },
  {
   "cell_type": "code",
   "execution_count": 5,
   "id": "0f85f7e1",
   "metadata": {
    "execution": {
     "iopub.execute_input": "2022-06-03T12:47:26.561091Z",
     "iopub.status.busy": "2022-06-03T12:47:26.560697Z",
     "iopub.status.idle": "2022-06-03T12:47:26.592699Z",
     "shell.execute_reply": "2022-06-03T12:47:26.591727Z"
    },
    "papermill": {
     "duration": 0.04403,
     "end_time": "2022-06-03T12:47:26.595165",
     "exception": false,
     "start_time": "2022-06-03T12:47:26.551135",
     "status": "completed"
    },
    "tags": []
   },
   "outputs": [
    {
     "data": {
      "text/html": [
       "<div>\n",
       "<style scoped>\n",
       "    .dataframe tbody tr th:only-of-type {\n",
       "        vertical-align: middle;\n",
       "    }\n",
       "\n",
       "    .dataframe tbody tr th {\n",
       "        vertical-align: top;\n",
       "    }\n",
       "\n",
       "    .dataframe thead th {\n",
       "        text-align: right;\n",
       "    }\n",
       "</style>\n",
       "<table border=\"1\" class=\"dataframe\">\n",
       "  <thead>\n",
       "    <tr style=\"text-align: right;\">\n",
       "      <th></th>\n",
       "      <th>datetime</th>\n",
       "      <th>season</th>\n",
       "      <th>holiday</th>\n",
       "      <th>workingday</th>\n",
       "      <th>weather</th>\n",
       "      <th>temp</th>\n",
       "      <th>atemp</th>\n",
       "      <th>humidity</th>\n",
       "      <th>windspeed</th>\n",
       "      <th>casual</th>\n",
       "      <th>registered</th>\n",
       "      <th>count</th>\n",
       "    </tr>\n",
       "  </thead>\n",
       "  <tbody>\n",
       "    <tr>\n",
       "      <th>0</th>\n",
       "      <td>2011-01-01 00:00:00</td>\n",
       "      <td>1</td>\n",
       "      <td>0</td>\n",
       "      <td>0</td>\n",
       "      <td>1</td>\n",
       "      <td>9.84</td>\n",
       "      <td>14.395</td>\n",
       "      <td>81</td>\n",
       "      <td>0.0000</td>\n",
       "      <td>3.0</td>\n",
       "      <td>13.0</td>\n",
       "      <td>16.0</td>\n",
       "    </tr>\n",
       "    <tr>\n",
       "      <th>1</th>\n",
       "      <td>2011-01-01 01:00:00</td>\n",
       "      <td>1</td>\n",
       "      <td>0</td>\n",
       "      <td>0</td>\n",
       "      <td>1</td>\n",
       "      <td>9.02</td>\n",
       "      <td>13.635</td>\n",
       "      <td>80</td>\n",
       "      <td>0.0000</td>\n",
       "      <td>8.0</td>\n",
       "      <td>32.0</td>\n",
       "      <td>40.0</td>\n",
       "    </tr>\n",
       "    <tr>\n",
       "      <th>2</th>\n",
       "      <td>2011-01-01 02:00:00</td>\n",
       "      <td>1</td>\n",
       "      <td>0</td>\n",
       "      <td>0</td>\n",
       "      <td>1</td>\n",
       "      <td>9.02</td>\n",
       "      <td>13.635</td>\n",
       "      <td>80</td>\n",
       "      <td>0.0000</td>\n",
       "      <td>5.0</td>\n",
       "      <td>27.0</td>\n",
       "      <td>32.0</td>\n",
       "    </tr>\n",
       "    <tr>\n",
       "      <th>3</th>\n",
       "      <td>2011-01-01 03:00:00</td>\n",
       "      <td>1</td>\n",
       "      <td>0</td>\n",
       "      <td>0</td>\n",
       "      <td>1</td>\n",
       "      <td>9.84</td>\n",
       "      <td>14.395</td>\n",
       "      <td>75</td>\n",
       "      <td>0.0000</td>\n",
       "      <td>3.0</td>\n",
       "      <td>10.0</td>\n",
       "      <td>13.0</td>\n",
       "    </tr>\n",
       "    <tr>\n",
       "      <th>4</th>\n",
       "      <td>2011-01-01 04:00:00</td>\n",
       "      <td>1</td>\n",
       "      <td>0</td>\n",
       "      <td>0</td>\n",
       "      <td>1</td>\n",
       "      <td>9.84</td>\n",
       "      <td>14.395</td>\n",
       "      <td>75</td>\n",
       "      <td>0.0000</td>\n",
       "      <td>0.0</td>\n",
       "      <td>1.0</td>\n",
       "      <td>1.0</td>\n",
       "    </tr>\n",
       "    <tr>\n",
       "      <th>...</th>\n",
       "      <td>...</td>\n",
       "      <td>...</td>\n",
       "      <td>...</td>\n",
       "      <td>...</td>\n",
       "      <td>...</td>\n",
       "      <td>...</td>\n",
       "      <td>...</td>\n",
       "      <td>...</td>\n",
       "      <td>...</td>\n",
       "      <td>...</td>\n",
       "      <td>...</td>\n",
       "      <td>...</td>\n",
       "    </tr>\n",
       "    <tr>\n",
       "      <th>17373</th>\n",
       "      <td>2012-12-31 19:00:00</td>\n",
       "      <td>1</td>\n",
       "      <td>0</td>\n",
       "      <td>1</td>\n",
       "      <td>2</td>\n",
       "      <td>10.66</td>\n",
       "      <td>12.880</td>\n",
       "      <td>60</td>\n",
       "      <td>11.0014</td>\n",
       "      <td>NaN</td>\n",
       "      <td>NaN</td>\n",
       "      <td>NaN</td>\n",
       "    </tr>\n",
       "    <tr>\n",
       "      <th>17374</th>\n",
       "      <td>2012-12-31 20:00:00</td>\n",
       "      <td>1</td>\n",
       "      <td>0</td>\n",
       "      <td>1</td>\n",
       "      <td>2</td>\n",
       "      <td>10.66</td>\n",
       "      <td>12.880</td>\n",
       "      <td>60</td>\n",
       "      <td>11.0014</td>\n",
       "      <td>NaN</td>\n",
       "      <td>NaN</td>\n",
       "      <td>NaN</td>\n",
       "    </tr>\n",
       "    <tr>\n",
       "      <th>17375</th>\n",
       "      <td>2012-12-31 21:00:00</td>\n",
       "      <td>1</td>\n",
       "      <td>0</td>\n",
       "      <td>1</td>\n",
       "      <td>1</td>\n",
       "      <td>10.66</td>\n",
       "      <td>12.880</td>\n",
       "      <td>60</td>\n",
       "      <td>11.0014</td>\n",
       "      <td>NaN</td>\n",
       "      <td>NaN</td>\n",
       "      <td>NaN</td>\n",
       "    </tr>\n",
       "    <tr>\n",
       "      <th>17376</th>\n",
       "      <td>2012-12-31 22:00:00</td>\n",
       "      <td>1</td>\n",
       "      <td>0</td>\n",
       "      <td>1</td>\n",
       "      <td>1</td>\n",
       "      <td>10.66</td>\n",
       "      <td>13.635</td>\n",
       "      <td>56</td>\n",
       "      <td>8.9981</td>\n",
       "      <td>NaN</td>\n",
       "      <td>NaN</td>\n",
       "      <td>NaN</td>\n",
       "    </tr>\n",
       "    <tr>\n",
       "      <th>17377</th>\n",
       "      <td>2012-12-31 23:00:00</td>\n",
       "      <td>1</td>\n",
       "      <td>0</td>\n",
       "      <td>1</td>\n",
       "      <td>1</td>\n",
       "      <td>10.66</td>\n",
       "      <td>13.635</td>\n",
       "      <td>65</td>\n",
       "      <td>8.9981</td>\n",
       "      <td>NaN</td>\n",
       "      <td>NaN</td>\n",
       "      <td>NaN</td>\n",
       "    </tr>\n",
       "  </tbody>\n",
       "</table>\n",
       "<p>17378 rows × 12 columns</p>\n",
       "</div>"
      ],
      "text/plain": [
       "                  datetime  season  holiday  workingday  weather   temp  \\\n",
       "0      2011-01-01 00:00:00       1        0           0        1   9.84   \n",
       "1      2011-01-01 01:00:00       1        0           0        1   9.02   \n",
       "2      2011-01-01 02:00:00       1        0           0        1   9.02   \n",
       "3      2011-01-01 03:00:00       1        0           0        1   9.84   \n",
       "4      2011-01-01 04:00:00       1        0           0        1   9.84   \n",
       "...                    ...     ...      ...         ...      ...    ...   \n",
       "17373  2012-12-31 19:00:00       1        0           1        2  10.66   \n",
       "17374  2012-12-31 20:00:00       1        0           1        2  10.66   \n",
       "17375  2012-12-31 21:00:00       1        0           1        1  10.66   \n",
       "17376  2012-12-31 22:00:00       1        0           1        1  10.66   \n",
       "17377  2012-12-31 23:00:00       1        0           1        1  10.66   \n",
       "\n",
       "        atemp  humidity  windspeed  casual  registered  count  \n",
       "0      14.395        81     0.0000     3.0        13.0   16.0  \n",
       "1      13.635        80     0.0000     8.0        32.0   40.0  \n",
       "2      13.635        80     0.0000     5.0        27.0   32.0  \n",
       "3      14.395        75     0.0000     3.0        10.0   13.0  \n",
       "4      14.395        75     0.0000     0.0         1.0    1.0  \n",
       "...       ...       ...        ...     ...         ...    ...  \n",
       "17373  12.880        60    11.0014     NaN         NaN    NaN  \n",
       "17374  12.880        60    11.0014     NaN         NaN    NaN  \n",
       "17375  12.880        60    11.0014     NaN         NaN    NaN  \n",
       "17376  13.635        56     8.9981     NaN         NaN    NaN  \n",
       "17377  13.635        65     8.9981     NaN         NaN    NaN  \n",
       "\n",
       "[17378 rows x 12 columns]"
      ]
     },
     "execution_count": 5,
     "metadata": {},
     "output_type": "execute_result"
    }
   ],
   "source": [
    "# 데이터가 없으면 기본적으로 NaN이 들어감\n",
    "all_data"
   ]
  },
  {
   "cell_type": "markdown",
   "id": "b364f1da",
   "metadata": {
    "papermill": {
     "duration": 0.008589,
     "end_time": "2022-06-03T12:47:26.612211",
     "exception": false,
     "start_time": "2022-06-03T12:47:26.603622",
     "status": "completed"
    },
    "tags": []
   },
   "source": [
    "### 파생 피처(변수) 추가"
   ]
  },
  {
   "cell_type": "code",
   "execution_count": 6,
   "id": "4faec79c",
   "metadata": {
    "execution": {
     "iopub.execute_input": "2022-06-03T12:47:26.631740Z",
     "iopub.status.busy": "2022-06-03T12:47:26.631276Z",
     "iopub.status.idle": "2022-06-03T12:47:26.922557Z",
     "shell.execute_reply": "2022-06-03T12:47:26.921381Z"
    },
    "papermill": {
     "duration": 0.304461,
     "end_time": "2022-06-03T12:47:26.925297",
     "exception": false,
     "start_time": "2022-06-03T12:47:26.620836",
     "status": "completed"
    },
    "tags": []
   },
   "outputs": [],
   "source": [
    "from datetime import datetime\n",
    "import calendar\n",
    "\n",
    "# !! day, minute, second 피처는 제외 (쓸모없음)\n",
    "all_data['year'] = all_data['datetime'].apply(lambda x: x.split()[0].split('-')[0]) # 연도 피처\n",
    "all_data['month'] = all_data['datetime'].apply(lambda x: x.split()[0].split('-')[1]) # 월 피처\n",
    "all_data['hour'] = all_data['datetime'].apply(lambda x: x.split()[1].split(':')[0]) # 시 피처\n",
    "all_data['weekday'] = all_data['datetime'].apply(\n",
    "    lambda dateStr: datetime.strptime(dateStr.split()[0], '%Y-%m-%d').weekday()\n",
    ") # 요일 피처"
   ]
  },
  {
   "cell_type": "code",
   "execution_count": 7,
   "id": "1711b4b2",
   "metadata": {
    "execution": {
     "iopub.execute_input": "2022-06-03T12:47:26.945061Z",
     "iopub.status.busy": "2022-06-03T12:47:26.944658Z",
     "iopub.status.idle": "2022-06-03T12:47:26.967535Z",
     "shell.execute_reply": "2022-06-03T12:47:26.966290Z"
    },
    "papermill": {
     "duration": 0.034991,
     "end_time": "2022-06-03T12:47:26.969436",
     "exception": false,
     "start_time": "2022-06-03T12:47:26.934445",
     "status": "completed"
    },
    "tags": []
   },
   "outputs": [
    {
     "data": {
      "text/html": [
       "<div>\n",
       "<style scoped>\n",
       "    .dataframe tbody tr th:only-of-type {\n",
       "        vertical-align: middle;\n",
       "    }\n",
       "\n",
       "    .dataframe tbody tr th {\n",
       "        vertical-align: top;\n",
       "    }\n",
       "\n",
       "    .dataframe thead th {\n",
       "        text-align: right;\n",
       "    }\n",
       "</style>\n",
       "<table border=\"1\" class=\"dataframe\">\n",
       "  <thead>\n",
       "    <tr style=\"text-align: right;\">\n",
       "      <th></th>\n",
       "      <th>datetime</th>\n",
       "      <th>season</th>\n",
       "      <th>holiday</th>\n",
       "      <th>workingday</th>\n",
       "      <th>weather</th>\n",
       "      <th>temp</th>\n",
       "      <th>atemp</th>\n",
       "      <th>humidity</th>\n",
       "      <th>windspeed</th>\n",
       "      <th>casual</th>\n",
       "      <th>registered</th>\n",
       "      <th>count</th>\n",
       "      <th>year</th>\n",
       "      <th>month</th>\n",
       "      <th>hour</th>\n",
       "      <th>weekday</th>\n",
       "    </tr>\n",
       "  </thead>\n",
       "  <tbody>\n",
       "    <tr>\n",
       "      <th>0</th>\n",
       "      <td>2011-01-01 00:00:00</td>\n",
       "      <td>1</td>\n",
       "      <td>0</td>\n",
       "      <td>0</td>\n",
       "      <td>1</td>\n",
       "      <td>9.84</td>\n",
       "      <td>14.395</td>\n",
       "      <td>81</td>\n",
       "      <td>0.0</td>\n",
       "      <td>3.0</td>\n",
       "      <td>13.0</td>\n",
       "      <td>16.0</td>\n",
       "      <td>2011</td>\n",
       "      <td>01</td>\n",
       "      <td>00</td>\n",
       "      <td>5</td>\n",
       "    </tr>\n",
       "    <tr>\n",
       "      <th>1</th>\n",
       "      <td>2011-01-01 01:00:00</td>\n",
       "      <td>1</td>\n",
       "      <td>0</td>\n",
       "      <td>0</td>\n",
       "      <td>1</td>\n",
       "      <td>9.02</td>\n",
       "      <td>13.635</td>\n",
       "      <td>80</td>\n",
       "      <td>0.0</td>\n",
       "      <td>8.0</td>\n",
       "      <td>32.0</td>\n",
       "      <td>40.0</td>\n",
       "      <td>2011</td>\n",
       "      <td>01</td>\n",
       "      <td>01</td>\n",
       "      <td>5</td>\n",
       "    </tr>\n",
       "    <tr>\n",
       "      <th>2</th>\n",
       "      <td>2011-01-01 02:00:00</td>\n",
       "      <td>1</td>\n",
       "      <td>0</td>\n",
       "      <td>0</td>\n",
       "      <td>1</td>\n",
       "      <td>9.02</td>\n",
       "      <td>13.635</td>\n",
       "      <td>80</td>\n",
       "      <td>0.0</td>\n",
       "      <td>5.0</td>\n",
       "      <td>27.0</td>\n",
       "      <td>32.0</td>\n",
       "      <td>2011</td>\n",
       "      <td>01</td>\n",
       "      <td>02</td>\n",
       "      <td>5</td>\n",
       "    </tr>\n",
       "    <tr>\n",
       "      <th>3</th>\n",
       "      <td>2011-01-01 03:00:00</td>\n",
       "      <td>1</td>\n",
       "      <td>0</td>\n",
       "      <td>0</td>\n",
       "      <td>1</td>\n",
       "      <td>9.84</td>\n",
       "      <td>14.395</td>\n",
       "      <td>75</td>\n",
       "      <td>0.0</td>\n",
       "      <td>3.0</td>\n",
       "      <td>10.0</td>\n",
       "      <td>13.0</td>\n",
       "      <td>2011</td>\n",
       "      <td>01</td>\n",
       "      <td>03</td>\n",
       "      <td>5</td>\n",
       "    </tr>\n",
       "    <tr>\n",
       "      <th>4</th>\n",
       "      <td>2011-01-01 04:00:00</td>\n",
       "      <td>1</td>\n",
       "      <td>0</td>\n",
       "      <td>0</td>\n",
       "      <td>1</td>\n",
       "      <td>9.84</td>\n",
       "      <td>14.395</td>\n",
       "      <td>75</td>\n",
       "      <td>0.0</td>\n",
       "      <td>0.0</td>\n",
       "      <td>1.0</td>\n",
       "      <td>1.0</td>\n",
       "      <td>2011</td>\n",
       "      <td>01</td>\n",
       "      <td>04</td>\n",
       "      <td>5</td>\n",
       "    </tr>\n",
       "  </tbody>\n",
       "</table>\n",
       "</div>"
      ],
      "text/plain": [
       "              datetime  season  holiday  workingday  weather  temp   atemp  \\\n",
       "0  2011-01-01 00:00:00       1        0           0        1  9.84  14.395   \n",
       "1  2011-01-01 01:00:00       1        0           0        1  9.02  13.635   \n",
       "2  2011-01-01 02:00:00       1        0           0        1  9.02  13.635   \n",
       "3  2011-01-01 03:00:00       1        0           0        1  9.84  14.395   \n",
       "4  2011-01-01 04:00:00       1        0           0        1  9.84  14.395   \n",
       "\n",
       "   humidity  windspeed  casual  registered  count  year month hour  weekday  \n",
       "0        81        0.0     3.0        13.0   16.0  2011    01   00        5  \n",
       "1        80        0.0     8.0        32.0   40.0  2011    01   01        5  \n",
       "2        80        0.0     5.0        27.0   32.0  2011    01   02        5  \n",
       "3        75        0.0     3.0        10.0   13.0  2011    01   03        5  \n",
       "4        75        0.0     0.0         1.0    1.0  2011    01   04        5  "
      ]
     },
     "execution_count": 7,
     "metadata": {},
     "output_type": "execute_result"
    }
   ],
   "source": [
    "all_data.head()"
   ]
  },
  {
   "cell_type": "markdown",
   "id": "205e6150",
   "metadata": {
    "papermill": {
     "duration": 0.008381,
     "end_time": "2022-06-03T12:47:26.986612",
     "exception": false,
     "start_time": "2022-06-03T12:47:26.978231",
     "status": "completed"
    },
    "tags": []
   },
   "source": [
    "### 필요 없는 피처 제거 (피처 선택)"
   ]
  },
  {
   "cell_type": "code",
   "execution_count": 8,
   "id": "343724db",
   "metadata": {
    "execution": {
     "iopub.execute_input": "2022-06-03T12:47:27.006862Z",
     "iopub.status.busy": "2022-06-03T12:47:27.006424Z",
     "iopub.status.idle": "2022-06-03T12:47:27.021182Z",
     "shell.execute_reply": "2022-06-03T12:47:27.019827Z"
    },
    "papermill": {
     "duration": 0.028396,
     "end_time": "2022-06-03T12:47:27.023959",
     "exception": false,
     "start_time": "2022-06-03T12:47:26.995563",
     "status": "completed"
    },
    "tags": []
   },
   "outputs": [],
   "source": [
    "# casual, registered, datetime, windspeed, month(season으로 대체) 피처 제거\n",
    "all_data = all_data.drop(['casual', 'registered', 'datetime', 'windspeed', 'month'], axis=1)"
   ]
  },
  {
   "cell_type": "code",
   "execution_count": 9,
   "id": "9f2c6aff",
   "metadata": {
    "execution": {
     "iopub.execute_input": "2022-06-03T12:47:27.043859Z",
     "iopub.status.busy": "2022-06-03T12:47:27.043416Z",
     "iopub.status.idle": "2022-06-03T12:47:27.061994Z",
     "shell.execute_reply": "2022-06-03T12:47:27.060828Z"
    },
    "papermill": {
     "duration": 0.031241,
     "end_time": "2022-06-03T12:47:27.064123",
     "exception": false,
     "start_time": "2022-06-03T12:47:27.032882",
     "status": "completed"
    },
    "tags": []
   },
   "outputs": [
    {
     "data": {
      "text/html": [
       "<div>\n",
       "<style scoped>\n",
       "    .dataframe tbody tr th:only-of-type {\n",
       "        vertical-align: middle;\n",
       "    }\n",
       "\n",
       "    .dataframe tbody tr th {\n",
       "        vertical-align: top;\n",
       "    }\n",
       "\n",
       "    .dataframe thead th {\n",
       "        text-align: right;\n",
       "    }\n",
       "</style>\n",
       "<table border=\"1\" class=\"dataframe\">\n",
       "  <thead>\n",
       "    <tr style=\"text-align: right;\">\n",
       "      <th></th>\n",
       "      <th>season</th>\n",
       "      <th>holiday</th>\n",
       "      <th>workingday</th>\n",
       "      <th>weather</th>\n",
       "      <th>temp</th>\n",
       "      <th>atemp</th>\n",
       "      <th>humidity</th>\n",
       "      <th>count</th>\n",
       "      <th>year</th>\n",
       "      <th>hour</th>\n",
       "      <th>weekday</th>\n",
       "    </tr>\n",
       "  </thead>\n",
       "  <tbody>\n",
       "    <tr>\n",
       "      <th>0</th>\n",
       "      <td>1</td>\n",
       "      <td>0</td>\n",
       "      <td>0</td>\n",
       "      <td>1</td>\n",
       "      <td>9.84</td>\n",
       "      <td>14.395</td>\n",
       "      <td>81</td>\n",
       "      <td>16.0</td>\n",
       "      <td>2011</td>\n",
       "      <td>00</td>\n",
       "      <td>5</td>\n",
       "    </tr>\n",
       "    <tr>\n",
       "      <th>1</th>\n",
       "      <td>1</td>\n",
       "      <td>0</td>\n",
       "      <td>0</td>\n",
       "      <td>1</td>\n",
       "      <td>9.02</td>\n",
       "      <td>13.635</td>\n",
       "      <td>80</td>\n",
       "      <td>40.0</td>\n",
       "      <td>2011</td>\n",
       "      <td>01</td>\n",
       "      <td>5</td>\n",
       "    </tr>\n",
       "    <tr>\n",
       "      <th>2</th>\n",
       "      <td>1</td>\n",
       "      <td>0</td>\n",
       "      <td>0</td>\n",
       "      <td>1</td>\n",
       "      <td>9.02</td>\n",
       "      <td>13.635</td>\n",
       "      <td>80</td>\n",
       "      <td>32.0</td>\n",
       "      <td>2011</td>\n",
       "      <td>02</td>\n",
       "      <td>5</td>\n",
       "    </tr>\n",
       "    <tr>\n",
       "      <th>3</th>\n",
       "      <td>1</td>\n",
       "      <td>0</td>\n",
       "      <td>0</td>\n",
       "      <td>1</td>\n",
       "      <td>9.84</td>\n",
       "      <td>14.395</td>\n",
       "      <td>75</td>\n",
       "      <td>13.0</td>\n",
       "      <td>2011</td>\n",
       "      <td>03</td>\n",
       "      <td>5</td>\n",
       "    </tr>\n",
       "    <tr>\n",
       "      <th>4</th>\n",
       "      <td>1</td>\n",
       "      <td>0</td>\n",
       "      <td>0</td>\n",
       "      <td>1</td>\n",
       "      <td>9.84</td>\n",
       "      <td>14.395</td>\n",
       "      <td>75</td>\n",
       "      <td>1.0</td>\n",
       "      <td>2011</td>\n",
       "      <td>04</td>\n",
       "      <td>5</td>\n",
       "    </tr>\n",
       "  </tbody>\n",
       "</table>\n",
       "</div>"
      ],
      "text/plain": [
       "   season  holiday  workingday  weather  temp   atemp  humidity  count  year  \\\n",
       "0       1        0           0        1  9.84  14.395        81   16.0  2011   \n",
       "1       1        0           0        1  9.02  13.635        80   40.0  2011   \n",
       "2       1        0           0        1  9.02  13.635        80   32.0  2011   \n",
       "3       1        0           0        1  9.84  14.395        75   13.0  2011   \n",
       "4       1        0           0        1  9.84  14.395        75    1.0  2011   \n",
       "\n",
       "  hour  weekday  \n",
       "0   00        5  \n",
       "1   01        5  \n",
       "2   02        5  \n",
       "3   03        5  \n",
       "4   04        5  "
      ]
     },
     "execution_count": 9,
     "metadata": {},
     "output_type": "execute_result"
    }
   ],
   "source": [
    "all_data.head()"
   ]
  },
  {
   "cell_type": "markdown",
   "id": "1c12d64a",
   "metadata": {
    "papermill": {
     "duration": 0.008872,
     "end_time": "2022-06-03T12:47:27.082112",
     "exception": false,
     "start_time": "2022-06-03T12:47:27.073240",
     "status": "completed"
    },
    "tags": []
   },
   "source": [
    "### 다시 데이터 나누기 (훈련 / 테스트)"
   ]
  },
  {
   "cell_type": "code",
   "execution_count": 10,
   "id": "f221ebea",
   "metadata": {
    "execution": {
     "iopub.execute_input": "2022-06-03T12:47:27.102043Z",
     "iopub.status.busy": "2022-06-03T12:47:27.101584Z",
     "iopub.status.idle": "2022-06-03T12:47:27.111858Z",
     "shell.execute_reply": "2022-06-03T12:47:27.110750Z"
    },
    "papermill": {
     "duration": 0.023328,
     "end_time": "2022-06-03T12:47:27.114410",
     "exception": false,
     "start_time": "2022-06-03T12:47:27.091082",
     "status": "completed"
    },
    "tags": []
   },
   "outputs": [],
   "source": [
    "X_train = all_data[~pd.isnull(all_data['count'])]\n",
    "X_test = all_data[pd.isnull(all_data['count'])]"
   ]
  },
  {
   "cell_type": "code",
   "execution_count": 11,
   "id": "699877d9",
   "metadata": {
    "execution": {
     "iopub.execute_input": "2022-06-03T12:47:27.137086Z",
     "iopub.status.busy": "2022-06-03T12:47:27.136690Z",
     "iopub.status.idle": "2022-06-03T12:47:27.145295Z",
     "shell.execute_reply": "2022-06-03T12:47:27.144276Z"
    },
    "papermill": {
     "duration": 0.022462,
     "end_time": "2022-06-03T12:47:27.147445",
     "exception": false,
     "start_time": "2022-06-03T12:47:27.124983",
     "status": "completed"
    },
    "tags": []
   },
   "outputs": [],
   "source": [
    "# 타깃값 분리\n",
    "X_train = X_train.drop(['count'], axis=1)\n",
    "X_test = X_test.drop(['count'], axis=1)\n",
    "\n",
    "y = train['count']"
   ]
  },
  {
   "cell_type": "code",
   "execution_count": 12,
   "id": "26e28322",
   "metadata": {
    "execution": {
     "iopub.execute_input": "2022-06-03T12:47:27.169154Z",
     "iopub.status.busy": "2022-06-03T12:47:27.168742Z",
     "iopub.status.idle": "2022-06-03T12:47:27.173905Z",
     "shell.execute_reply": "2022-06-03T12:47:27.172595Z"
    },
    "papermill": {
     "duration": 0.019823,
     "end_time": "2022-06-03T12:47:27.177493",
     "exception": false,
     "start_time": "2022-06-03T12:47:27.157670",
     "status": "completed"
    },
    "tags": []
   },
   "outputs": [
    {
     "name": "stdout",
     "output_type": "stream",
     "text": [
      "(10885, 10) (6493, 10)\n"
     ]
    }
   ],
   "source": [
    "print(X_train.shape, X_test.shape)"
   ]
  },
  {
   "cell_type": "markdown",
   "id": "4f4d5be6",
   "metadata": {
    "papermill": {
     "duration": 0.008822,
     "end_time": "2022-06-03T12:47:27.196341",
     "exception": false,
     "start_time": "2022-06-03T12:47:27.187519",
     "status": "completed"
    },
    "tags": []
   },
   "source": [
    "## 평가지표 계산 함수 작성"
   ]
  },
  {
   "cell_type": "markdown",
   "id": "dab38baa",
   "metadata": {
    "papermill": {
     "duration": 0.008705,
     "end_time": "2022-06-03T12:47:27.214434",
     "exception": false,
     "start_time": "2022-06-03T12:47:27.205729",
     "status": "completed"
    },
    "tags": []
   },
   "source": [
    "### RMSLE\n",
    "$$\\sqrt{\\frac{1}{n} \\sum_{i=1}^n (\\log(p_i + 1) - \\log(a_i+1))^2 }$$"
   ]
  },
  {
   "cell_type": "code",
   "execution_count": 13,
   "id": "9d95a39a",
   "metadata": {
    "execution": {
     "iopub.execute_input": "2022-06-03T12:47:27.234700Z",
     "iopub.status.busy": "2022-06-03T12:47:27.233837Z",
     "iopub.status.idle": "2022-06-03T12:47:27.241669Z",
     "shell.execute_reply": "2022-06-03T12:47:27.240540Z"
    },
    "papermill": {
     "duration": 0.020522,
     "end_time": "2022-06-03T12:47:27.243974",
     "exception": false,
     "start_time": "2022-06-03T12:47:27.223452",
     "status": "completed"
    },
    "tags": []
   },
   "outputs": [],
   "source": [
    "def rmsle(y_true, y_pred, convertExp=True):\n",
    "    # 지수 변환 (타깃값으로 count가 아닌 log(count)를 사용할 것이므로...)\n",
    "    if convertExp:\n",
    "        y_true = np.exp(y_true)\n",
    "        y_pred = np.exp(y_pred)\n",
    "    \n",
    "    # 로그 변환 후 결측값을 0으로 변환\n",
    "    log_true = np.nan_to_num(np.log(y_true + 1))\n",
    "    log_pred = np.nan_to_num(np.log(y_pred + 1))\n",
    "    \n",
    "    # RMSLE 계산\n",
    "    output = np.sqrt(np.mean((log_true - log_pred) ** 2))\n",
    "    return output"
   ]
  },
  {
   "cell_type": "markdown",
   "id": "2466eb66",
   "metadata": {
    "papermill": {
     "duration": 0.008855,
     "end_time": "2022-06-03T12:47:27.262248",
     "exception": false,
     "start_time": "2022-06-03T12:47:27.253393",
     "status": "completed"
    },
    "tags": []
   },
   "source": [
    "## Baseline Model"
   ]
  },
  {
   "cell_type": "markdown",
   "id": "7625f989",
   "metadata": {
    "papermill": {
     "duration": 0.008981,
     "end_time": "2022-06-03T12:47:27.280722",
     "exception": false,
     "start_time": "2022-06-03T12:47:27.271741",
     "status": "completed"
    },
    "tags": []
   },
   "source": [
    "### sklearn LinearRegression"
   ]
  },
  {
   "cell_type": "code",
   "execution_count": 14,
   "id": "1bbeeaff",
   "metadata": {
    "execution": {
     "iopub.execute_input": "2022-06-03T12:47:27.301583Z",
     "iopub.status.busy": "2022-06-03T12:47:27.301183Z",
     "iopub.status.idle": "2022-06-03T12:47:28.469107Z",
     "shell.execute_reply": "2022-06-03T12:47:28.468132Z"
    },
    "papermill": {
     "duration": 1.181767,
     "end_time": "2022-06-03T12:47:28.471822",
     "exception": false,
     "start_time": "2022-06-03T12:47:27.290055",
     "status": "completed"
    },
    "tags": []
   },
   "outputs": [],
   "source": [
    "from sklearn.linear_model import LinearRegression\n",
    "\n",
    "linear_reg_model = LinearRegression()"
   ]
  },
  {
   "cell_type": "code",
   "execution_count": 15,
   "id": "c7ea445f",
   "metadata": {
    "execution": {
     "iopub.execute_input": "2022-06-03T12:47:28.494444Z",
     "iopub.status.busy": "2022-06-03T12:47:28.493570Z",
     "iopub.status.idle": "2022-06-03T12:47:28.544141Z",
     "shell.execute_reply": "2022-06-03T12:47:28.543111Z"
    },
    "papermill": {
     "duration": 0.065028,
     "end_time": "2022-06-03T12:47:28.547844",
     "exception": false,
     "start_time": "2022-06-03T12:47:28.482816",
     "status": "completed"
    },
    "tags": []
   },
   "outputs": [
    {
     "data": {
      "text/plain": [
       "LinearRegression()"
      ]
     },
     "execution_count": 15,
     "metadata": {},
     "output_type": "execute_result"
    }
   ],
   "source": [
    "log_y = np.log(y) # 타깃값 로그 변환\n",
    "linear_reg_model.fit(X_train, log_y) # 모델 훈련"
   ]
  },
  {
   "cell_type": "code",
   "execution_count": 16,
   "id": "5436fae1",
   "metadata": {
    "execution": {
     "iopub.execute_input": "2022-06-03T12:47:28.585353Z",
     "iopub.status.busy": "2022-06-03T12:47:28.584756Z",
     "iopub.status.idle": "2022-06-03T12:47:28.629299Z",
     "shell.execute_reply": "2022-06-03T12:47:28.627965Z"
    },
    "papermill": {
     "duration": 0.068616,
     "end_time": "2022-06-03T12:47:28.633587",
     "exception": false,
     "start_time": "2022-06-03T12:47:28.564971",
     "status": "completed"
    },
    "tags": []
   },
   "outputs": [],
   "source": [
    "preds = linear_reg_model.predict(X_train)"
   ]
  },
  {
   "cell_type": "code",
   "execution_count": 17,
   "id": "8cc9e604",
   "metadata": {
    "execution": {
     "iopub.execute_input": "2022-06-03T12:47:28.680450Z",
     "iopub.status.busy": "2022-06-03T12:47:28.679826Z",
     "iopub.status.idle": "2022-06-03T12:47:28.694554Z",
     "shell.execute_reply": "2022-06-03T12:47:28.693517Z"
    },
    "papermill": {
     "duration": 0.03702,
     "end_time": "2022-06-03T12:47:28.697922",
     "exception": false,
     "start_time": "2022-06-03T12:47:28.660902",
     "status": "completed"
    },
    "tags": []
   },
   "outputs": [
    {
     "name": "stdout",
     "output_type": "stream",
     "text": [
      "선형 회귀의 RMSLE 값: 1.0204980189305008\n"
     ]
    }
   ],
   "source": [
    "print(f'선형 회귀의 RMSLE 값: {rmsle(log_y, preds, True)}')"
   ]
  },
  {
   "cell_type": "markdown",
   "id": "2e9b0e20",
   "metadata": {
    "papermill": {
     "duration": 0.016461,
     "end_time": "2022-06-03T12:47:28.731821",
     "exception": false,
     "start_time": "2022-06-03T12:47:28.715360",
     "status": "completed"
    },
    "tags": []
   },
   "source": [
    "### 예측 및 결과 제출"
   ]
  },
  {
   "cell_type": "code",
   "execution_count": 18,
   "id": "8709541c",
   "metadata": {
    "execution": {
     "iopub.execute_input": "2022-06-03T12:47:28.757354Z",
     "iopub.status.busy": "2022-06-03T12:47:28.756922Z",
     "iopub.status.idle": "2022-06-03T12:47:28.825935Z",
     "shell.execute_reply": "2022-06-03T12:47:28.824756Z"
    },
    "papermill": {
     "duration": 0.083028,
     "end_time": "2022-06-03T12:47:28.829267",
     "exception": false,
     "start_time": "2022-06-03T12:47:28.746239",
     "status": "completed"
    },
    "tags": []
   },
   "outputs": [],
   "source": [
    "linearreg_preds = linear_reg_model.predict(X_test)\n",
    "\n",
    "submission['count'] = np.exp(linearreg_preds)\n",
    "submission.to_csv('submission.csv', index=False)"
   ]
  },
  {
   "cell_type": "code",
   "execution_count": 19,
   "id": "130d5647",
   "metadata": {
    "execution": {
     "iopub.execute_input": "2022-06-03T12:47:28.866246Z",
     "iopub.status.busy": "2022-06-03T12:47:28.865586Z",
     "iopub.status.idle": "2022-06-03T12:47:28.886930Z",
     "shell.execute_reply": "2022-06-03T12:47:28.885706Z"
    },
    "papermill": {
     "duration": 0.044512,
     "end_time": "2022-06-03T12:47:28.890918",
     "exception": false,
     "start_time": "2022-06-03T12:47:28.846406",
     "status": "completed"
    },
    "tags": []
   },
   "outputs": [
    {
     "data": {
      "text/html": [
       "<div>\n",
       "<style scoped>\n",
       "    .dataframe tbody tr th:only-of-type {\n",
       "        vertical-align: middle;\n",
       "    }\n",
       "\n",
       "    .dataframe tbody tr th {\n",
       "        vertical-align: top;\n",
       "    }\n",
       "\n",
       "    .dataframe thead th {\n",
       "        text-align: right;\n",
       "    }\n",
       "</style>\n",
       "<table border=\"1\" class=\"dataframe\">\n",
       "  <thead>\n",
       "    <tr style=\"text-align: right;\">\n",
       "      <th></th>\n",
       "      <th>datetime</th>\n",
       "      <th>count</th>\n",
       "    </tr>\n",
       "  </thead>\n",
       "  <tbody>\n",
       "    <tr>\n",
       "      <th>0</th>\n",
       "      <td>2011-01-20 00:00:00</td>\n",
       "      <td>11.362398</td>\n",
       "    </tr>\n",
       "    <tr>\n",
       "      <th>1</th>\n",
       "      <td>2011-01-20 01:00:00</td>\n",
       "      <td>13.601789</td>\n",
       "    </tr>\n",
       "    <tr>\n",
       "      <th>2</th>\n",
       "      <td>2011-01-20 02:00:00</td>\n",
       "      <td>15.084417</td>\n",
       "    </tr>\n",
       "    <tr>\n",
       "      <th>3</th>\n",
       "      <td>2011-01-20 03:00:00</td>\n",
       "      <td>16.308758</td>\n",
       "    </tr>\n",
       "    <tr>\n",
       "      <th>4</th>\n",
       "      <td>2011-01-20 04:00:00</td>\n",
       "      <td>18.086453</td>\n",
       "    </tr>\n",
       "  </tbody>\n",
       "</table>\n",
       "</div>"
      ],
      "text/plain": [
       "              datetime      count\n",
       "0  2011-01-20 00:00:00  11.362398\n",
       "1  2011-01-20 01:00:00  13.601789\n",
       "2  2011-01-20 02:00:00  15.084417\n",
       "3  2011-01-20 03:00:00  16.308758\n",
       "4  2011-01-20 04:00:00  18.086453"
      ]
     },
     "execution_count": 19,
     "metadata": {},
     "output_type": "execute_result"
    }
   ],
   "source": [
    "submission.head()"
   ]
  },
  {
   "cell_type": "code",
   "execution_count": null,
   "id": "36974bd8",
   "metadata": {
    "papermill": {
     "duration": 0.009582,
     "end_time": "2022-06-03T12:47:28.912096",
     "exception": false,
     "start_time": "2022-06-03T12:47:28.902514",
     "status": "completed"
    },
    "tags": []
   },
   "outputs": [],
   "source": []
  }
 ],
 "metadata": {
  "kernelspec": {
   "display_name": "Python 3",
   "language": "python",
   "name": "python3"
  },
  "language_info": {
   "codemirror_mode": {
    "name": "ipython",
    "version": 3
   },
   "file_extension": ".py",
   "mimetype": "text/x-python",
   "name": "python",
   "nbconvert_exporter": "python",
   "pygments_lexer": "ipython3",
   "version": "3.7.12"
  },
  "papermill": {
   "default_parameters": {},
   "duration": 13.468005,
   "end_time": "2022-06-03T12:47:29.647782",
   "environment_variables": {},
   "exception": null,
   "input_path": "__notebook__.ipynb",
   "output_path": "__notebook__.ipynb",
   "parameters": {},
   "start_time": "2022-06-03T12:47:16.179777",
   "version": "2.3.4"
  }
 },
 "nbformat": 4,
 "nbformat_minor": 5
}
