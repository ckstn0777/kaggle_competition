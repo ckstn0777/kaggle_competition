{
 "cells": [
  {
   "cell_type": "markdown",
   "id": "e4d3eacb",
   "metadata": {
    "papermill": {
     "duration": 0.015034,
     "end_time": "2022-06-06T12:20:44.048253",
     "exception": false,
     "start_time": "2022-06-06T12:20:44.033219",
     "status": "completed"
    },
    "tags": []
   },
   "source": [
    "## 필수 라이브러리 import"
   ]
  },
  {
   "cell_type": "code",
   "execution_count": 1,
   "id": "f66416aa",
   "metadata": {
    "execution": {
     "iopub.execute_input": "2022-06-06T12:20:44.076781Z",
     "iopub.status.busy": "2022-06-06T12:20:44.075356Z",
     "iopub.status.idle": "2022-06-06T12:20:44.090832Z",
     "shell.execute_reply": "2022-06-06T12:20:44.089691Z"
    },
    "papermill": {
     "duration": 0.032197,
     "end_time": "2022-06-06T12:20:44.093616",
     "exception": false,
     "start_time": "2022-06-06T12:20:44.061419",
     "status": "completed"
    },
    "tags": []
   },
   "outputs": [],
   "source": [
    "import numpy as np\n",
    "import pandas as pd\n",
    "import matplotlib.pyplot as plt"
   ]
  },
  {
   "cell_type": "markdown",
   "id": "5c873310",
   "metadata": {
    "papermill": {
     "duration": 0.012945,
     "end_time": "2022-06-06T12:20:44.119757",
     "exception": false,
     "start_time": "2022-06-06T12:20:44.106812",
     "status": "completed"
    },
    "tags": []
   },
   "source": [
    "## 데이터 불러오기"
   ]
  },
  {
   "cell_type": "code",
   "execution_count": 2,
   "id": "379ce985",
   "metadata": {
    "execution": {
     "iopub.execute_input": "2022-06-06T12:20:44.147192Z",
     "iopub.status.busy": "2022-06-06T12:20:44.146712Z",
     "iopub.status.idle": "2022-06-06T12:20:44.226831Z",
     "shell.execute_reply": "2022-06-06T12:20:44.225581Z"
    },
    "papermill": {
     "duration": 0.097086,
     "end_time": "2022-06-06T12:20:44.229706",
     "exception": false,
     "start_time": "2022-06-06T12:20:44.132620",
     "status": "completed"
    },
    "tags": []
   },
   "outputs": [],
   "source": [
    "PATH = '/kaggle/input/bike-sharing-demand/'\n",
    "\n",
    "train = pd.read_csv(PATH + 'train.csv')\n",
    "test = pd.read_csv(PATH + 'test.csv')\n",
    "submission = pd.read_csv(PATH + 'sampleSubmission.csv')"
   ]
  },
  {
   "cell_type": "markdown",
   "id": "cd3fde2b",
   "metadata": {
    "papermill": {
     "duration": 0.012122,
     "end_time": "2022-06-06T12:20:44.254330",
     "exception": false,
     "start_time": "2022-06-06T12:20:44.242208",
     "status": "completed"
    },
    "tags": []
   },
   "source": [
    "## 데이터 전처리"
   ]
  },
  {
   "cell_type": "markdown",
   "id": "1e9b7634",
   "metadata": {
    "papermill": {
     "duration": 0.011874,
     "end_time": "2022-06-06T12:20:44.279202",
     "exception": false,
     "start_time": "2022-06-06T12:20:44.267328",
     "status": "completed"
    },
    "tags": []
   },
   "source": [
    "### 이상치 제거"
   ]
  },
  {
   "cell_type": "code",
   "execution_count": 3,
   "id": "a13ff89a",
   "metadata": {
    "execution": {
     "iopub.execute_input": "2022-06-06T12:20:44.305653Z",
     "iopub.status.busy": "2022-06-06T12:20:44.305220Z",
     "iopub.status.idle": "2022-06-06T12:20:44.318633Z",
     "shell.execute_reply": "2022-06-06T12:20:44.317798Z"
    },
    "papermill": {
     "duration": 0.029556,
     "end_time": "2022-06-06T12:20:44.321002",
     "exception": false,
     "start_time": "2022-06-06T12:20:44.291446",
     "status": "completed"
    },
    "tags": []
   },
   "outputs": [],
   "source": [
    "# 날씨가 4인 데이터에서 수요가 있었던 경우는 극히 일부이므로 이상 데이터로 취급해서 제거해줌\n",
    "train = train[train['weather'] != 4]"
   ]
  },
  {
   "cell_type": "markdown",
   "id": "fcca53be",
   "metadata": {
    "papermill": {
     "duration": 0.011931,
     "end_time": "2022-06-06T12:20:44.345620",
     "exception": false,
     "start_time": "2022-06-06T12:20:44.333689",
     "status": "completed"
    },
    "tags": []
   },
   "source": [
    "### 데이터 합치기\n",
    "- 훈련 데이터와 테스트 데이터에 같은 피처 엔지니어링을 적용하기 위해 합쳐줌"
   ]
  },
  {
   "cell_type": "code",
   "execution_count": 4,
   "id": "7192786a",
   "metadata": {
    "execution": {
     "iopub.execute_input": "2022-06-06T12:20:44.372335Z",
     "iopub.status.busy": "2022-06-06T12:20:44.371639Z",
     "iopub.status.idle": "2022-06-06T12:20:44.383326Z",
     "shell.execute_reply": "2022-06-06T12:20:44.382529Z"
    },
    "papermill": {
     "duration": 0.028009,
     "end_time": "2022-06-06T12:20:44.385786",
     "exception": false,
     "start_time": "2022-06-06T12:20:44.357777",
     "status": "completed"
    },
    "tags": []
   },
   "outputs": [],
   "source": [
    "# ignore_index=True하면 인덱스 재배열 해줌\n",
    "all_data = pd.concat([train, test], ignore_index=True)"
   ]
  },
  {
   "cell_type": "code",
   "execution_count": 5,
   "id": "a1fe2980",
   "metadata": {
    "execution": {
     "iopub.execute_input": "2022-06-06T12:20:44.412469Z",
     "iopub.status.busy": "2022-06-06T12:20:44.411826Z",
     "iopub.status.idle": "2022-06-06T12:20:44.443059Z",
     "shell.execute_reply": "2022-06-06T12:20:44.442032Z"
    },
    "papermill": {
     "duration": 0.048543,
     "end_time": "2022-06-06T12:20:44.446495",
     "exception": false,
     "start_time": "2022-06-06T12:20:44.397952",
     "status": "completed"
    },
    "tags": []
   },
   "outputs": [
    {
     "data": {
      "text/html": [
       "<div>\n",
       "<style scoped>\n",
       "    .dataframe tbody tr th:only-of-type {\n",
       "        vertical-align: middle;\n",
       "    }\n",
       "\n",
       "    .dataframe tbody tr th {\n",
       "        vertical-align: top;\n",
       "    }\n",
       "\n",
       "    .dataframe thead th {\n",
       "        text-align: right;\n",
       "    }\n",
       "</style>\n",
       "<table border=\"1\" class=\"dataframe\">\n",
       "  <thead>\n",
       "    <tr style=\"text-align: right;\">\n",
       "      <th></th>\n",
       "      <th>datetime</th>\n",
       "      <th>season</th>\n",
       "      <th>holiday</th>\n",
       "      <th>workingday</th>\n",
       "      <th>weather</th>\n",
       "      <th>temp</th>\n",
       "      <th>atemp</th>\n",
       "      <th>humidity</th>\n",
       "      <th>windspeed</th>\n",
       "      <th>casual</th>\n",
       "      <th>registered</th>\n",
       "      <th>count</th>\n",
       "    </tr>\n",
       "  </thead>\n",
       "  <tbody>\n",
       "    <tr>\n",
       "      <th>0</th>\n",
       "      <td>2011-01-01 00:00:00</td>\n",
       "      <td>1</td>\n",
       "      <td>0</td>\n",
       "      <td>0</td>\n",
       "      <td>1</td>\n",
       "      <td>9.84</td>\n",
       "      <td>14.395</td>\n",
       "      <td>81</td>\n",
       "      <td>0.0000</td>\n",
       "      <td>3.0</td>\n",
       "      <td>13.0</td>\n",
       "      <td>16.0</td>\n",
       "    </tr>\n",
       "    <tr>\n",
       "      <th>1</th>\n",
       "      <td>2011-01-01 01:00:00</td>\n",
       "      <td>1</td>\n",
       "      <td>0</td>\n",
       "      <td>0</td>\n",
       "      <td>1</td>\n",
       "      <td>9.02</td>\n",
       "      <td>13.635</td>\n",
       "      <td>80</td>\n",
       "      <td>0.0000</td>\n",
       "      <td>8.0</td>\n",
       "      <td>32.0</td>\n",
       "      <td>40.0</td>\n",
       "    </tr>\n",
       "    <tr>\n",
       "      <th>2</th>\n",
       "      <td>2011-01-01 02:00:00</td>\n",
       "      <td>1</td>\n",
       "      <td>0</td>\n",
       "      <td>0</td>\n",
       "      <td>1</td>\n",
       "      <td>9.02</td>\n",
       "      <td>13.635</td>\n",
       "      <td>80</td>\n",
       "      <td>0.0000</td>\n",
       "      <td>5.0</td>\n",
       "      <td>27.0</td>\n",
       "      <td>32.0</td>\n",
       "    </tr>\n",
       "    <tr>\n",
       "      <th>3</th>\n",
       "      <td>2011-01-01 03:00:00</td>\n",
       "      <td>1</td>\n",
       "      <td>0</td>\n",
       "      <td>0</td>\n",
       "      <td>1</td>\n",
       "      <td>9.84</td>\n",
       "      <td>14.395</td>\n",
       "      <td>75</td>\n",
       "      <td>0.0000</td>\n",
       "      <td>3.0</td>\n",
       "      <td>10.0</td>\n",
       "      <td>13.0</td>\n",
       "    </tr>\n",
       "    <tr>\n",
       "      <th>4</th>\n",
       "      <td>2011-01-01 04:00:00</td>\n",
       "      <td>1</td>\n",
       "      <td>0</td>\n",
       "      <td>0</td>\n",
       "      <td>1</td>\n",
       "      <td>9.84</td>\n",
       "      <td>14.395</td>\n",
       "      <td>75</td>\n",
       "      <td>0.0000</td>\n",
       "      <td>0.0</td>\n",
       "      <td>1.0</td>\n",
       "      <td>1.0</td>\n",
       "    </tr>\n",
       "    <tr>\n",
       "      <th>...</th>\n",
       "      <td>...</td>\n",
       "      <td>...</td>\n",
       "      <td>...</td>\n",
       "      <td>...</td>\n",
       "      <td>...</td>\n",
       "      <td>...</td>\n",
       "      <td>...</td>\n",
       "      <td>...</td>\n",
       "      <td>...</td>\n",
       "      <td>...</td>\n",
       "      <td>...</td>\n",
       "      <td>...</td>\n",
       "    </tr>\n",
       "    <tr>\n",
       "      <th>17373</th>\n",
       "      <td>2012-12-31 19:00:00</td>\n",
       "      <td>1</td>\n",
       "      <td>0</td>\n",
       "      <td>1</td>\n",
       "      <td>2</td>\n",
       "      <td>10.66</td>\n",
       "      <td>12.880</td>\n",
       "      <td>60</td>\n",
       "      <td>11.0014</td>\n",
       "      <td>NaN</td>\n",
       "      <td>NaN</td>\n",
       "      <td>NaN</td>\n",
       "    </tr>\n",
       "    <tr>\n",
       "      <th>17374</th>\n",
       "      <td>2012-12-31 20:00:00</td>\n",
       "      <td>1</td>\n",
       "      <td>0</td>\n",
       "      <td>1</td>\n",
       "      <td>2</td>\n",
       "      <td>10.66</td>\n",
       "      <td>12.880</td>\n",
       "      <td>60</td>\n",
       "      <td>11.0014</td>\n",
       "      <td>NaN</td>\n",
       "      <td>NaN</td>\n",
       "      <td>NaN</td>\n",
       "    </tr>\n",
       "    <tr>\n",
       "      <th>17375</th>\n",
       "      <td>2012-12-31 21:00:00</td>\n",
       "      <td>1</td>\n",
       "      <td>0</td>\n",
       "      <td>1</td>\n",
       "      <td>1</td>\n",
       "      <td>10.66</td>\n",
       "      <td>12.880</td>\n",
       "      <td>60</td>\n",
       "      <td>11.0014</td>\n",
       "      <td>NaN</td>\n",
       "      <td>NaN</td>\n",
       "      <td>NaN</td>\n",
       "    </tr>\n",
       "    <tr>\n",
       "      <th>17376</th>\n",
       "      <td>2012-12-31 22:00:00</td>\n",
       "      <td>1</td>\n",
       "      <td>0</td>\n",
       "      <td>1</td>\n",
       "      <td>1</td>\n",
       "      <td>10.66</td>\n",
       "      <td>13.635</td>\n",
       "      <td>56</td>\n",
       "      <td>8.9981</td>\n",
       "      <td>NaN</td>\n",
       "      <td>NaN</td>\n",
       "      <td>NaN</td>\n",
       "    </tr>\n",
       "    <tr>\n",
       "      <th>17377</th>\n",
       "      <td>2012-12-31 23:00:00</td>\n",
       "      <td>1</td>\n",
       "      <td>0</td>\n",
       "      <td>1</td>\n",
       "      <td>1</td>\n",
       "      <td>10.66</td>\n",
       "      <td>13.635</td>\n",
       "      <td>65</td>\n",
       "      <td>8.9981</td>\n",
       "      <td>NaN</td>\n",
       "      <td>NaN</td>\n",
       "      <td>NaN</td>\n",
       "    </tr>\n",
       "  </tbody>\n",
       "</table>\n",
       "<p>17378 rows × 12 columns</p>\n",
       "</div>"
      ],
      "text/plain": [
       "                  datetime  season  holiday  workingday  weather   temp  \\\n",
       "0      2011-01-01 00:00:00       1        0           0        1   9.84   \n",
       "1      2011-01-01 01:00:00       1        0           0        1   9.02   \n",
       "2      2011-01-01 02:00:00       1        0           0        1   9.02   \n",
       "3      2011-01-01 03:00:00       1        0           0        1   9.84   \n",
       "4      2011-01-01 04:00:00       1        0           0        1   9.84   \n",
       "...                    ...     ...      ...         ...      ...    ...   \n",
       "17373  2012-12-31 19:00:00       1        0           1        2  10.66   \n",
       "17374  2012-12-31 20:00:00       1        0           1        2  10.66   \n",
       "17375  2012-12-31 21:00:00       1        0           1        1  10.66   \n",
       "17376  2012-12-31 22:00:00       1        0           1        1  10.66   \n",
       "17377  2012-12-31 23:00:00       1        0           1        1  10.66   \n",
       "\n",
       "        atemp  humidity  windspeed  casual  registered  count  \n",
       "0      14.395        81     0.0000     3.0        13.0   16.0  \n",
       "1      13.635        80     0.0000     8.0        32.0   40.0  \n",
       "2      13.635        80     0.0000     5.0        27.0   32.0  \n",
       "3      14.395        75     0.0000     3.0        10.0   13.0  \n",
       "4      14.395        75     0.0000     0.0         1.0    1.0  \n",
       "...       ...       ...        ...     ...         ...    ...  \n",
       "17373  12.880        60    11.0014     NaN         NaN    NaN  \n",
       "17374  12.880        60    11.0014     NaN         NaN    NaN  \n",
       "17375  12.880        60    11.0014     NaN         NaN    NaN  \n",
       "17376  13.635        56     8.9981     NaN         NaN    NaN  \n",
       "17377  13.635        65     8.9981     NaN         NaN    NaN  \n",
       "\n",
       "[17378 rows x 12 columns]"
      ]
     },
     "execution_count": 5,
     "metadata": {},
     "output_type": "execute_result"
    }
   ],
   "source": [
    "# 데이터가 없으면 기본적으로 NaN이 들어감\n",
    "all_data"
   ]
  },
  {
   "cell_type": "markdown",
   "id": "ad8e0fc2",
   "metadata": {
    "papermill": {
     "duration": 0.012778,
     "end_time": "2022-06-06T12:20:44.472010",
     "exception": false,
     "start_time": "2022-06-06T12:20:44.459232",
     "status": "completed"
    },
    "tags": []
   },
   "source": [
    "### 파생 피처(변수) 추가"
   ]
  },
  {
   "cell_type": "code",
   "execution_count": 6,
   "id": "6ba11c4b",
   "metadata": {
    "execution": {
     "iopub.execute_input": "2022-06-06T12:20:44.500375Z",
     "iopub.status.busy": "2022-06-06T12:20:44.499751Z",
     "iopub.status.idle": "2022-06-06T12:20:44.782697Z",
     "shell.execute_reply": "2022-06-06T12:20:44.781572Z"
    },
    "papermill": {
     "duration": 0.300238,
     "end_time": "2022-06-06T12:20:44.785416",
     "exception": false,
     "start_time": "2022-06-06T12:20:44.485178",
     "status": "completed"
    },
    "tags": []
   },
   "outputs": [],
   "source": [
    "from datetime import datetime\n",
    "import calendar\n",
    "\n",
    "# !! day, minute, second 피처는 제외 (쓸모없음)\n",
    "all_data['year'] = all_data['datetime'].apply(lambda x: x.split()[0].split('-')[0]) # 연도 피처\n",
    "all_data['month'] = all_data['datetime'].apply(lambda x: x.split()[0].split('-')[1]) # 월 피처\n",
    "all_data['hour'] = all_data['datetime'].apply(lambda x: x.split()[1].split(':')[0]) # 시 피처\n",
    "all_data['weekday'] = all_data['datetime'].apply(\n",
    "    lambda dateStr: datetime.strptime(dateStr.split()[0], '%Y-%m-%d').weekday()\n",
    ") # 요일 피처"
   ]
  },
  {
   "cell_type": "code",
   "execution_count": 7,
   "id": "dbbe7865",
   "metadata": {
    "execution": {
     "iopub.execute_input": "2022-06-06T12:20:44.812681Z",
     "iopub.status.busy": "2022-06-06T12:20:44.811637Z",
     "iopub.status.idle": "2022-06-06T12:20:44.833132Z",
     "shell.execute_reply": "2022-06-06T12:20:44.832121Z"
    },
    "papermill": {
     "duration": 0.03746,
     "end_time": "2022-06-06T12:20:44.835513",
     "exception": false,
     "start_time": "2022-06-06T12:20:44.798053",
     "status": "completed"
    },
    "tags": []
   },
   "outputs": [
    {
     "data": {
      "text/html": [
       "<div>\n",
       "<style scoped>\n",
       "    .dataframe tbody tr th:only-of-type {\n",
       "        vertical-align: middle;\n",
       "    }\n",
       "\n",
       "    .dataframe tbody tr th {\n",
       "        vertical-align: top;\n",
       "    }\n",
       "\n",
       "    .dataframe thead th {\n",
       "        text-align: right;\n",
       "    }\n",
       "</style>\n",
       "<table border=\"1\" class=\"dataframe\">\n",
       "  <thead>\n",
       "    <tr style=\"text-align: right;\">\n",
       "      <th></th>\n",
       "      <th>datetime</th>\n",
       "      <th>season</th>\n",
       "      <th>holiday</th>\n",
       "      <th>workingday</th>\n",
       "      <th>weather</th>\n",
       "      <th>temp</th>\n",
       "      <th>atemp</th>\n",
       "      <th>humidity</th>\n",
       "      <th>windspeed</th>\n",
       "      <th>casual</th>\n",
       "      <th>registered</th>\n",
       "      <th>count</th>\n",
       "      <th>year</th>\n",
       "      <th>month</th>\n",
       "      <th>hour</th>\n",
       "      <th>weekday</th>\n",
       "    </tr>\n",
       "  </thead>\n",
       "  <tbody>\n",
       "    <tr>\n",
       "      <th>0</th>\n",
       "      <td>2011-01-01 00:00:00</td>\n",
       "      <td>1</td>\n",
       "      <td>0</td>\n",
       "      <td>0</td>\n",
       "      <td>1</td>\n",
       "      <td>9.84</td>\n",
       "      <td>14.395</td>\n",
       "      <td>81</td>\n",
       "      <td>0.0</td>\n",
       "      <td>3.0</td>\n",
       "      <td>13.0</td>\n",
       "      <td>16.0</td>\n",
       "      <td>2011</td>\n",
       "      <td>01</td>\n",
       "      <td>00</td>\n",
       "      <td>5</td>\n",
       "    </tr>\n",
       "    <tr>\n",
       "      <th>1</th>\n",
       "      <td>2011-01-01 01:00:00</td>\n",
       "      <td>1</td>\n",
       "      <td>0</td>\n",
       "      <td>0</td>\n",
       "      <td>1</td>\n",
       "      <td>9.02</td>\n",
       "      <td>13.635</td>\n",
       "      <td>80</td>\n",
       "      <td>0.0</td>\n",
       "      <td>8.0</td>\n",
       "      <td>32.0</td>\n",
       "      <td>40.0</td>\n",
       "      <td>2011</td>\n",
       "      <td>01</td>\n",
       "      <td>01</td>\n",
       "      <td>5</td>\n",
       "    </tr>\n",
       "    <tr>\n",
       "      <th>2</th>\n",
       "      <td>2011-01-01 02:00:00</td>\n",
       "      <td>1</td>\n",
       "      <td>0</td>\n",
       "      <td>0</td>\n",
       "      <td>1</td>\n",
       "      <td>9.02</td>\n",
       "      <td>13.635</td>\n",
       "      <td>80</td>\n",
       "      <td>0.0</td>\n",
       "      <td>5.0</td>\n",
       "      <td>27.0</td>\n",
       "      <td>32.0</td>\n",
       "      <td>2011</td>\n",
       "      <td>01</td>\n",
       "      <td>02</td>\n",
       "      <td>5</td>\n",
       "    </tr>\n",
       "    <tr>\n",
       "      <th>3</th>\n",
       "      <td>2011-01-01 03:00:00</td>\n",
       "      <td>1</td>\n",
       "      <td>0</td>\n",
       "      <td>0</td>\n",
       "      <td>1</td>\n",
       "      <td>9.84</td>\n",
       "      <td>14.395</td>\n",
       "      <td>75</td>\n",
       "      <td>0.0</td>\n",
       "      <td>3.0</td>\n",
       "      <td>10.0</td>\n",
       "      <td>13.0</td>\n",
       "      <td>2011</td>\n",
       "      <td>01</td>\n",
       "      <td>03</td>\n",
       "      <td>5</td>\n",
       "    </tr>\n",
       "    <tr>\n",
       "      <th>4</th>\n",
       "      <td>2011-01-01 04:00:00</td>\n",
       "      <td>1</td>\n",
       "      <td>0</td>\n",
       "      <td>0</td>\n",
       "      <td>1</td>\n",
       "      <td>9.84</td>\n",
       "      <td>14.395</td>\n",
       "      <td>75</td>\n",
       "      <td>0.0</td>\n",
       "      <td>0.0</td>\n",
       "      <td>1.0</td>\n",
       "      <td>1.0</td>\n",
       "      <td>2011</td>\n",
       "      <td>01</td>\n",
       "      <td>04</td>\n",
       "      <td>5</td>\n",
       "    </tr>\n",
       "  </tbody>\n",
       "</table>\n",
       "</div>"
      ],
      "text/plain": [
       "              datetime  season  holiday  workingday  weather  temp   atemp  \\\n",
       "0  2011-01-01 00:00:00       1        0           0        1  9.84  14.395   \n",
       "1  2011-01-01 01:00:00       1        0           0        1  9.02  13.635   \n",
       "2  2011-01-01 02:00:00       1        0           0        1  9.02  13.635   \n",
       "3  2011-01-01 03:00:00       1        0           0        1  9.84  14.395   \n",
       "4  2011-01-01 04:00:00       1        0           0        1  9.84  14.395   \n",
       "\n",
       "   humidity  windspeed  casual  registered  count  year month hour  weekday  \n",
       "0        81        0.0     3.0        13.0   16.0  2011    01   00        5  \n",
       "1        80        0.0     8.0        32.0   40.0  2011    01   01        5  \n",
       "2        80        0.0     5.0        27.0   32.0  2011    01   02        5  \n",
       "3        75        0.0     3.0        10.0   13.0  2011    01   03        5  \n",
       "4        75        0.0     0.0         1.0    1.0  2011    01   04        5  "
      ]
     },
     "execution_count": 7,
     "metadata": {},
     "output_type": "execute_result"
    }
   ],
   "source": [
    "all_data.head()"
   ]
  },
  {
   "cell_type": "markdown",
   "id": "12180cf6",
   "metadata": {
    "papermill": {
     "duration": 0.012381,
     "end_time": "2022-06-06T12:20:44.860624",
     "exception": false,
     "start_time": "2022-06-06T12:20:44.848243",
     "status": "completed"
    },
    "tags": []
   },
   "source": [
    "### 필요 없는 피처 제거 (피처 선택)"
   ]
  },
  {
   "cell_type": "code",
   "execution_count": 8,
   "id": "10d1fae5",
   "metadata": {
    "execution": {
     "iopub.execute_input": "2022-06-06T12:20:44.887995Z",
     "iopub.status.busy": "2022-06-06T12:20:44.887582Z",
     "iopub.status.idle": "2022-06-06T12:20:44.899973Z",
     "shell.execute_reply": "2022-06-06T12:20:44.898942Z"
    },
    "papermill": {
     "duration": 0.028914,
     "end_time": "2022-06-06T12:20:44.902371",
     "exception": false,
     "start_time": "2022-06-06T12:20:44.873457",
     "status": "completed"
    },
    "tags": []
   },
   "outputs": [],
   "source": [
    "# casual, registered, datetime, windspeed, month(season으로 대체) 피처 제거\n",
    "all_data = all_data.drop(['casual', 'registered', 'datetime', 'windspeed', 'month'], axis=1)"
   ]
  },
  {
   "cell_type": "code",
   "execution_count": 9,
   "id": "4a664c55",
   "metadata": {
    "execution": {
     "iopub.execute_input": "2022-06-06T12:20:44.930540Z",
     "iopub.status.busy": "2022-06-06T12:20:44.930047Z",
     "iopub.status.idle": "2022-06-06T12:20:44.947513Z",
     "shell.execute_reply": "2022-06-06T12:20:44.946390Z"
    },
    "papermill": {
     "duration": 0.034026,
     "end_time": "2022-06-06T12:20:44.949436",
     "exception": false,
     "start_time": "2022-06-06T12:20:44.915410",
     "status": "completed"
    },
    "tags": []
   },
   "outputs": [
    {
     "data": {
      "text/html": [
       "<div>\n",
       "<style scoped>\n",
       "    .dataframe tbody tr th:only-of-type {\n",
       "        vertical-align: middle;\n",
       "    }\n",
       "\n",
       "    .dataframe tbody tr th {\n",
       "        vertical-align: top;\n",
       "    }\n",
       "\n",
       "    .dataframe thead th {\n",
       "        text-align: right;\n",
       "    }\n",
       "</style>\n",
       "<table border=\"1\" class=\"dataframe\">\n",
       "  <thead>\n",
       "    <tr style=\"text-align: right;\">\n",
       "      <th></th>\n",
       "      <th>season</th>\n",
       "      <th>holiday</th>\n",
       "      <th>workingday</th>\n",
       "      <th>weather</th>\n",
       "      <th>temp</th>\n",
       "      <th>atemp</th>\n",
       "      <th>humidity</th>\n",
       "      <th>count</th>\n",
       "      <th>year</th>\n",
       "      <th>hour</th>\n",
       "      <th>weekday</th>\n",
       "    </tr>\n",
       "  </thead>\n",
       "  <tbody>\n",
       "    <tr>\n",
       "      <th>0</th>\n",
       "      <td>1</td>\n",
       "      <td>0</td>\n",
       "      <td>0</td>\n",
       "      <td>1</td>\n",
       "      <td>9.84</td>\n",
       "      <td>14.395</td>\n",
       "      <td>81</td>\n",
       "      <td>16.0</td>\n",
       "      <td>2011</td>\n",
       "      <td>00</td>\n",
       "      <td>5</td>\n",
       "    </tr>\n",
       "    <tr>\n",
       "      <th>1</th>\n",
       "      <td>1</td>\n",
       "      <td>0</td>\n",
       "      <td>0</td>\n",
       "      <td>1</td>\n",
       "      <td>9.02</td>\n",
       "      <td>13.635</td>\n",
       "      <td>80</td>\n",
       "      <td>40.0</td>\n",
       "      <td>2011</td>\n",
       "      <td>01</td>\n",
       "      <td>5</td>\n",
       "    </tr>\n",
       "    <tr>\n",
       "      <th>2</th>\n",
       "      <td>1</td>\n",
       "      <td>0</td>\n",
       "      <td>0</td>\n",
       "      <td>1</td>\n",
       "      <td>9.02</td>\n",
       "      <td>13.635</td>\n",
       "      <td>80</td>\n",
       "      <td>32.0</td>\n",
       "      <td>2011</td>\n",
       "      <td>02</td>\n",
       "      <td>5</td>\n",
       "    </tr>\n",
       "    <tr>\n",
       "      <th>3</th>\n",
       "      <td>1</td>\n",
       "      <td>0</td>\n",
       "      <td>0</td>\n",
       "      <td>1</td>\n",
       "      <td>9.84</td>\n",
       "      <td>14.395</td>\n",
       "      <td>75</td>\n",
       "      <td>13.0</td>\n",
       "      <td>2011</td>\n",
       "      <td>03</td>\n",
       "      <td>5</td>\n",
       "    </tr>\n",
       "    <tr>\n",
       "      <th>4</th>\n",
       "      <td>1</td>\n",
       "      <td>0</td>\n",
       "      <td>0</td>\n",
       "      <td>1</td>\n",
       "      <td>9.84</td>\n",
       "      <td>14.395</td>\n",
       "      <td>75</td>\n",
       "      <td>1.0</td>\n",
       "      <td>2011</td>\n",
       "      <td>04</td>\n",
       "      <td>5</td>\n",
       "    </tr>\n",
       "  </tbody>\n",
       "</table>\n",
       "</div>"
      ],
      "text/plain": [
       "   season  holiday  workingday  weather  temp   atemp  humidity  count  year  \\\n",
       "0       1        0           0        1  9.84  14.395        81   16.0  2011   \n",
       "1       1        0           0        1  9.02  13.635        80   40.0  2011   \n",
       "2       1        0           0        1  9.02  13.635        80   32.0  2011   \n",
       "3       1        0           0        1  9.84  14.395        75   13.0  2011   \n",
       "4       1        0           0        1  9.84  14.395        75    1.0  2011   \n",
       "\n",
       "  hour  weekday  \n",
       "0   00        5  \n",
       "1   01        5  \n",
       "2   02        5  \n",
       "3   03        5  \n",
       "4   04        5  "
      ]
     },
     "execution_count": 9,
     "metadata": {},
     "output_type": "execute_result"
    }
   ],
   "source": [
    "all_data.head()"
   ]
  },
  {
   "cell_type": "markdown",
   "id": "1bdd4f6d",
   "metadata": {
    "papermill": {
     "duration": 0.012647,
     "end_time": "2022-06-06T12:20:44.974906",
     "exception": false,
     "start_time": "2022-06-06T12:20:44.962259",
     "status": "completed"
    },
    "tags": []
   },
   "source": [
    "### 다시 데이터 나누기 (훈련 / 테스트)"
   ]
  },
  {
   "cell_type": "code",
   "execution_count": 10,
   "id": "c78e5776",
   "metadata": {
    "execution": {
     "iopub.execute_input": "2022-06-06T12:20:45.002788Z",
     "iopub.status.busy": "2022-06-06T12:20:45.002282Z",
     "iopub.status.idle": "2022-06-06T12:20:45.013703Z",
     "shell.execute_reply": "2022-06-06T12:20:45.012699Z"
    },
    "papermill": {
     "duration": 0.02802,
     "end_time": "2022-06-06T12:20:45.015858",
     "exception": false,
     "start_time": "2022-06-06T12:20:44.987838",
     "status": "completed"
    },
    "tags": []
   },
   "outputs": [],
   "source": [
    "X_train = all_data[~pd.isnull(all_data['count'])]\n",
    "X_test = all_data[pd.isnull(all_data['count'])]"
   ]
  },
  {
   "cell_type": "code",
   "execution_count": 11,
   "id": "2568eb66",
   "metadata": {
    "execution": {
     "iopub.execute_input": "2022-06-06T12:20:45.043931Z",
     "iopub.status.busy": "2022-06-06T12:20:45.043442Z",
     "iopub.status.idle": "2022-06-06T12:20:45.053782Z",
     "shell.execute_reply": "2022-06-06T12:20:45.052454Z"
    },
    "papermill": {
     "duration": 0.026987,
     "end_time": "2022-06-06T12:20:45.055878",
     "exception": false,
     "start_time": "2022-06-06T12:20:45.028891",
     "status": "completed"
    },
    "tags": []
   },
   "outputs": [],
   "source": [
    "# 타깃값 분리\n",
    "X_train = X_train.drop(['count'], axis=1)\n",
    "X_test = X_test.drop(['count'], axis=1)\n",
    "\n",
    "y = train['count']"
   ]
  },
  {
   "cell_type": "code",
   "execution_count": 12,
   "id": "d62c0d6d",
   "metadata": {
    "execution": {
     "iopub.execute_input": "2022-06-06T12:20:45.084485Z",
     "iopub.status.busy": "2022-06-06T12:20:45.084008Z",
     "iopub.status.idle": "2022-06-06T12:20:45.089670Z",
     "shell.execute_reply": "2022-06-06T12:20:45.088505Z"
    },
    "papermill": {
     "duration": 0.022893,
     "end_time": "2022-06-06T12:20:45.092000",
     "exception": false,
     "start_time": "2022-06-06T12:20:45.069107",
     "status": "completed"
    },
    "tags": []
   },
   "outputs": [
    {
     "name": "stdout",
     "output_type": "stream",
     "text": [
      "(10885, 10) (6493, 10)\n"
     ]
    }
   ],
   "source": [
    "print(X_train.shape, X_test.shape)"
   ]
  },
  {
   "cell_type": "markdown",
   "id": "315ab504",
   "metadata": {
    "papermill": {
     "duration": 0.012881,
     "end_time": "2022-06-06T12:20:45.118440",
     "exception": false,
     "start_time": "2022-06-06T12:20:45.105559",
     "status": "completed"
    },
    "tags": []
   },
   "source": [
    "## 평가지표 계산 함수 작성"
   ]
  },
  {
   "cell_type": "markdown",
   "id": "4dfafd63",
   "metadata": {
    "papermill": {
     "duration": 0.012716,
     "end_time": "2022-06-06T12:20:45.150907",
     "exception": false,
     "start_time": "2022-06-06T12:20:45.138191",
     "status": "completed"
    },
    "tags": []
   },
   "source": [
    "### RMSLE\n",
    "$$\\sqrt{\\frac{1}{n} \\sum_{i=1}^n (\\log(p_i + 1) - \\log(a_i+1))^2 }$$"
   ]
  },
  {
   "cell_type": "code",
   "execution_count": 13,
   "id": "2233cba8",
   "metadata": {
    "execution": {
     "iopub.execute_input": "2022-06-06T12:20:45.179063Z",
     "iopub.status.busy": "2022-06-06T12:20:45.178604Z",
     "iopub.status.idle": "2022-06-06T12:20:45.185804Z",
     "shell.execute_reply": "2022-06-06T12:20:45.184890Z"
    },
    "papermill": {
     "duration": 0.023782,
     "end_time": "2022-06-06T12:20:45.187698",
     "exception": false,
     "start_time": "2022-06-06T12:20:45.163916",
     "status": "completed"
    },
    "tags": []
   },
   "outputs": [],
   "source": [
    "def rmsle(y_true, y_pred, convertExp=True):\n",
    "    # 지수 변환 (타깃값으로 count가 아닌 log(count)를 사용할 것이므로...)\n",
    "    if convertExp:\n",
    "        y_true = np.exp(y_true)\n",
    "        y_pred = np.exp(y_pred)\n",
    "    \n",
    "    # 로그 변환 후 결측값을 0으로 변환\n",
    "    log_true = np.nan_to_num(np.log(y_true + 1))\n",
    "    log_pred = np.nan_to_num(np.log(y_pred + 1))\n",
    "    \n",
    "    # RMSLE 계산\n",
    "    output = np.sqrt(np.mean((log_true - log_pred) ** 2))\n",
    "    return output"
   ]
  },
  {
   "cell_type": "markdown",
   "id": "d20ac754",
   "metadata": {
    "papermill": {
     "duration": 0.012668,
     "end_time": "2022-06-06T12:20:45.213302",
     "exception": false,
     "start_time": "2022-06-06T12:20:45.200634",
     "status": "completed"
    },
    "tags": []
   },
   "source": [
    "## Baseline Model"
   ]
  },
  {
   "cell_type": "markdown",
   "id": "2725d2c2",
   "metadata": {
    "papermill": {
     "duration": 0.012771,
     "end_time": "2022-06-06T12:20:45.239067",
     "exception": false,
     "start_time": "2022-06-06T12:20:45.226296",
     "status": "completed"
    },
    "tags": []
   },
   "source": [
    "### sklearn LinearRegression"
   ]
  },
  {
   "cell_type": "code",
   "execution_count": 14,
   "id": "d9d3404e",
   "metadata": {
    "execution": {
     "iopub.execute_input": "2022-06-06T12:20:45.267281Z",
     "iopub.status.busy": "2022-06-06T12:20:45.266797Z",
     "iopub.status.idle": "2022-06-06T12:20:46.563959Z",
     "shell.execute_reply": "2022-06-06T12:20:46.562884Z"
    },
    "papermill": {
     "duration": 1.31452,
     "end_time": "2022-06-06T12:20:46.566706",
     "exception": false,
     "start_time": "2022-06-06T12:20:45.252186",
     "status": "completed"
    },
    "tags": []
   },
   "outputs": [],
   "source": [
    "from sklearn.linear_model import LinearRegression\n",
    "\n",
    "linear_reg_model = LinearRegression()"
   ]
  },
  {
   "cell_type": "code",
   "execution_count": 15,
   "id": "4ae9a4f2",
   "metadata": {
    "execution": {
     "iopub.execute_input": "2022-06-06T12:20:46.596555Z",
     "iopub.status.busy": "2022-06-06T12:20:46.595529Z",
     "iopub.status.idle": "2022-06-06T12:20:46.650182Z",
     "shell.execute_reply": "2022-06-06T12:20:46.648822Z"
    },
    "papermill": {
     "duration": 0.072318,
     "end_time": "2022-06-06T12:20:46.652665",
     "exception": false,
     "start_time": "2022-06-06T12:20:46.580347",
     "status": "completed"
    },
    "tags": []
   },
   "outputs": [
    {
     "data": {
      "text/plain": [
       "LinearRegression()"
      ]
     },
     "execution_count": 15,
     "metadata": {},
     "output_type": "execute_result"
    }
   ],
   "source": [
    "log_y = np.log(y) # 타깃값 로그 변환\n",
    "linear_reg_model.fit(X_train, log_y) # 모델 훈련"
   ]
  },
  {
   "cell_type": "code",
   "execution_count": 16,
   "id": "82d055cf",
   "metadata": {
    "execution": {
     "iopub.execute_input": "2022-06-06T12:20:46.682820Z",
     "iopub.status.busy": "2022-06-06T12:20:46.682176Z",
     "iopub.status.idle": "2022-06-06T12:20:46.726895Z",
     "shell.execute_reply": "2022-06-06T12:20:46.725620Z"
    },
    "papermill": {
     "duration": 0.064259,
     "end_time": "2022-06-06T12:20:46.730830",
     "exception": false,
     "start_time": "2022-06-06T12:20:46.666571",
     "status": "completed"
    },
    "tags": []
   },
   "outputs": [],
   "source": [
    "preds = linear_reg_model.predict(X_train)"
   ]
  },
  {
   "cell_type": "code",
   "execution_count": 17,
   "id": "6547a66b",
   "metadata": {
    "execution": {
     "iopub.execute_input": "2022-06-06T12:20:46.791947Z",
     "iopub.status.busy": "2022-06-06T12:20:46.791149Z",
     "iopub.status.idle": "2022-06-06T12:20:46.809777Z",
     "shell.execute_reply": "2022-06-06T12:20:46.807551Z"
    },
    "papermill": {
     "duration": 0.051323,
     "end_time": "2022-06-06T12:20:46.814665",
     "exception": false,
     "start_time": "2022-06-06T12:20:46.763342",
     "status": "completed"
    },
    "tags": []
   },
   "outputs": [
    {
     "name": "stdout",
     "output_type": "stream",
     "text": [
      "선형 회귀의 RMSLE 값: 1.0204980189305008\n"
     ]
    }
   ],
   "source": [
    "print(f'선형 회귀의 RMSLE 값: {rmsle(log_y, preds, True)}')"
   ]
  },
  {
   "cell_type": "markdown",
   "id": "f20ee8df",
   "metadata": {
    "papermill": {
     "duration": 0.013687,
     "end_time": "2022-06-06T12:20:46.853821",
     "exception": false,
     "start_time": "2022-06-06T12:20:46.840134",
     "status": "completed"
    },
    "tags": []
   },
   "source": [
    "### 예측 및 결과 제출"
   ]
  },
  {
   "cell_type": "code",
   "execution_count": 18,
   "id": "d7b029fe",
   "metadata": {
    "execution": {
     "iopub.execute_input": "2022-06-06T12:20:46.883662Z",
     "iopub.status.busy": "2022-06-06T12:20:46.883083Z",
     "iopub.status.idle": "2022-06-06T12:20:46.953670Z",
     "shell.execute_reply": "2022-06-06T12:20:46.952479Z"
    },
    "papermill": {
     "duration": 0.089659,
     "end_time": "2022-06-06T12:20:46.957413",
     "exception": false,
     "start_time": "2022-06-06T12:20:46.867754",
     "status": "completed"
    },
    "tags": []
   },
   "outputs": [],
   "source": [
    "linearreg_preds = linear_reg_model.predict(X_test)\n",
    "\n",
    "submission['count'] = np.exp(linearreg_preds)\n",
    "submission.to_csv('submission.csv', index=False) # Score: 1.02142"
   ]
  },
  {
   "cell_type": "code",
   "execution_count": 19,
   "id": "3ee90f7d",
   "metadata": {
    "execution": {
     "iopub.execute_input": "2022-06-06T12:20:47.011053Z",
     "iopub.status.busy": "2022-06-06T12:20:47.010443Z",
     "iopub.status.idle": "2022-06-06T12:20:47.026922Z",
     "shell.execute_reply": "2022-06-06T12:20:47.026229Z"
    },
    "papermill": {
     "duration": 0.046274,
     "end_time": "2022-06-06T12:20:47.028923",
     "exception": false,
     "start_time": "2022-06-06T12:20:46.982649",
     "status": "completed"
    },
    "tags": []
   },
   "outputs": [
    {
     "data": {
      "text/html": [
       "<div>\n",
       "<style scoped>\n",
       "    .dataframe tbody tr th:only-of-type {\n",
       "        vertical-align: middle;\n",
       "    }\n",
       "\n",
       "    .dataframe tbody tr th {\n",
       "        vertical-align: top;\n",
       "    }\n",
       "\n",
       "    .dataframe thead th {\n",
       "        text-align: right;\n",
       "    }\n",
       "</style>\n",
       "<table border=\"1\" class=\"dataframe\">\n",
       "  <thead>\n",
       "    <tr style=\"text-align: right;\">\n",
       "      <th></th>\n",
       "      <th>datetime</th>\n",
       "      <th>count</th>\n",
       "    </tr>\n",
       "  </thead>\n",
       "  <tbody>\n",
       "    <tr>\n",
       "      <th>0</th>\n",
       "      <td>2011-01-20 00:00:00</td>\n",
       "      <td>11.362398</td>\n",
       "    </tr>\n",
       "    <tr>\n",
       "      <th>1</th>\n",
       "      <td>2011-01-20 01:00:00</td>\n",
       "      <td>13.601789</td>\n",
       "    </tr>\n",
       "    <tr>\n",
       "      <th>2</th>\n",
       "      <td>2011-01-20 02:00:00</td>\n",
       "      <td>15.084417</td>\n",
       "    </tr>\n",
       "    <tr>\n",
       "      <th>3</th>\n",
       "      <td>2011-01-20 03:00:00</td>\n",
       "      <td>16.308758</td>\n",
       "    </tr>\n",
       "    <tr>\n",
       "      <th>4</th>\n",
       "      <td>2011-01-20 04:00:00</td>\n",
       "      <td>18.086453</td>\n",
       "    </tr>\n",
       "  </tbody>\n",
       "</table>\n",
       "</div>"
      ],
      "text/plain": [
       "              datetime      count\n",
       "0  2011-01-20 00:00:00  11.362398\n",
       "1  2011-01-20 01:00:00  13.601789\n",
       "2  2011-01-20 02:00:00  15.084417\n",
       "3  2011-01-20 03:00:00  16.308758\n",
       "4  2011-01-20 04:00:00  18.086453"
      ]
     },
     "execution_count": 19,
     "metadata": {},
     "output_type": "execute_result"
    }
   ],
   "source": [
    "submission.head()"
   ]
  },
  {
   "cell_type": "markdown",
   "id": "b1a6d8c7",
   "metadata": {
    "papermill": {
     "duration": 0.014173,
     "end_time": "2022-06-06T12:20:47.056698",
     "exception": false,
     "start_time": "2022-06-06T12:20:47.042525",
     "status": "completed"
    },
    "tags": []
   },
   "source": [
    "## 성능 개선 1 - 릿지 회귀 모델"
   ]
  },
  {
   "cell_type": "markdown",
   "id": "d3dbf4a7",
   "metadata": {
    "papermill": {
     "duration": 0.0131,
     "end_time": "2022-06-06T12:20:47.083302",
     "exception": false,
     "start_time": "2022-06-06T12:20:47.070202",
     "status": "completed"
    },
    "tags": []
   },
   "source": [
    "### 모델 생성"
   ]
  },
  {
   "cell_type": "code",
   "execution_count": 20,
   "id": "4179358d",
   "metadata": {
    "execution": {
     "iopub.execute_input": "2022-06-06T12:20:47.112973Z",
     "iopub.status.busy": "2022-06-06T12:20:47.112267Z",
     "iopub.status.idle": "2022-06-06T12:20:47.117241Z",
     "shell.execute_reply": "2022-06-06T12:20:47.116643Z"
    },
    "papermill": {
     "duration": 0.021857,
     "end_time": "2022-06-06T12:20:47.119179",
     "exception": false,
     "start_time": "2022-06-06T12:20:47.097322",
     "status": "completed"
    },
    "tags": []
   },
   "outputs": [],
   "source": [
    "from sklearn.linear_model import Ridge\n",
    "from sklearn.model_selection import GridSearchCV\n",
    "from sklearn import metrics\n",
    "\n",
    "ridge_model = Ridge()"
   ]
  },
  {
   "cell_type": "markdown",
   "id": "3bfda96a",
   "metadata": {
    "papermill": {
     "duration": 0.013168,
     "end_time": "2022-06-06T12:20:47.145657",
     "exception": false,
     "start_time": "2022-06-06T12:20:47.132489",
     "status": "completed"
    },
    "tags": []
   },
   "source": [
    "### 그리디서치 객체 생성"
   ]
  },
  {
   "cell_type": "code",
   "execution_count": 21,
   "id": "92820a2b",
   "metadata": {
    "execution": {
     "iopub.execute_input": "2022-06-06T12:20:47.174743Z",
     "iopub.status.busy": "2022-06-06T12:20:47.174043Z",
     "iopub.status.idle": "2022-06-06T12:20:47.180314Z",
     "shell.execute_reply": "2022-06-06T12:20:47.179709Z"
    },
    "papermill": {
     "duration": 0.023146,
     "end_time": "2022-06-06T12:20:47.182273",
     "exception": false,
     "start_time": "2022-06-06T12:20:47.159127",
     "status": "completed"
    },
    "tags": []
   },
   "outputs": [],
   "source": [
    "# 하이퍼파라미터 목록\n",
    "ridge_params = {'max_iter': [3000], 'alpha': [0.1, 1, 2, 3, 4, 10, 30, 100, 200, 300, 400, 800, 900, 1000]}\n",
    "\n",
    "# 교차 검증용 평가함수 (RMSLE 점수 계산)\n",
    "rmsle_scorer = metrics.make_scorer(rmsle, greater_is_better=False)\n",
    "\n",
    "# 그리디서치 객체 생성\n",
    "gridsearch_ridge_model = GridSearchCV(ridge_model, param_grid=ridge_params, scoring=rmsle_scorer, cv=5)"
   ]
  },
  {
   "cell_type": "code",
   "execution_count": 22,
   "id": "b92eea3e",
   "metadata": {
    "execution": {
     "iopub.execute_input": "2022-06-06T12:20:47.211035Z",
     "iopub.status.busy": "2022-06-06T12:20:47.210412Z",
     "iopub.status.idle": "2022-06-06T12:20:49.880145Z",
     "shell.execute_reply": "2022-06-06T12:20:49.879120Z"
    },
    "papermill": {
     "duration": 2.687718,
     "end_time": "2022-06-06T12:20:49.883323",
     "exception": false,
     "start_time": "2022-06-06T12:20:47.195605",
     "status": "completed"
    },
    "tags": []
   },
   "outputs": [
    {
     "data": {
      "text/plain": [
       "GridSearchCV(cv=5, estimator=Ridge(),\n",
       "             param_grid={'alpha': [0.1, 1, 2, 3, 4, 10, 30, 100, 200, 300, 400,\n",
       "                                   800, 900, 1000],\n",
       "                         'max_iter': [3000]},\n",
       "             scoring=make_scorer(rmsle, greater_is_better=False))"
      ]
     },
     "execution_count": 22,
     "metadata": {},
     "output_type": "execute_result"
    }
   ],
   "source": [
    "log_y = np.log(y)\n",
    "gridsearch_ridge_model.fit(X_train, log_y) "
   ]
  },
  {
   "cell_type": "code",
   "execution_count": 23,
   "id": "29eb6cb9",
   "metadata": {
    "execution": {
     "iopub.execute_input": "2022-06-06T12:20:49.938126Z",
     "iopub.status.busy": "2022-06-06T12:20:49.937412Z",
     "iopub.status.idle": "2022-06-06T12:20:49.945014Z",
     "shell.execute_reply": "2022-06-06T12:20:49.943981Z"
    },
    "papermill": {
     "duration": 0.041162,
     "end_time": "2022-06-06T12:20:49.950995",
     "exception": false,
     "start_time": "2022-06-06T12:20:49.909833",
     "status": "completed"
    },
    "tags": []
   },
   "outputs": [
    {
     "name": "stdout",
     "output_type": "stream",
     "text": [
      "best parameters :  {'alpha': 0.1, 'max_iter': 3000}\n",
      "best score :  -1.0275378662574122\n"
     ]
    }
   ],
   "source": [
    "# alpha: 0.1인 경우가 최적인것을 알 수 있음.. 다만 결과는 선형회귀 모델과 별반 다르지 않음\n",
    "print('best parameters : ', gridsearch_ridge_model.best_params_)\n",
    "print('best score : ', gridsearch_ridge_model.best_score_)"
   ]
  },
  {
   "cell_type": "markdown",
   "id": "84b60b69",
   "metadata": {
    "papermill": {
     "duration": 0.021768,
     "end_time": "2022-06-06T12:20:49.998319",
     "exception": false,
     "start_time": "2022-06-06T12:20:49.976551",
     "status": "completed"
    },
    "tags": []
   },
   "source": [
    "## 성능 개선 2 - 랜덤 포레스트 회귀 모델"
   ]
  },
  {
   "cell_type": "markdown",
   "id": "6415c129",
   "metadata": {
    "papermill": {
     "duration": 0.013665,
     "end_time": "2022-06-06T12:20:50.027791",
     "exception": false,
     "start_time": "2022-06-06T12:20:50.014126",
     "status": "completed"
    },
    "tags": []
   },
   "source": [
    "### 모델 생성"
   ]
  },
  {
   "cell_type": "code",
   "execution_count": 24,
   "id": "db3ee82f",
   "metadata": {
    "execution": {
     "iopub.execute_input": "2022-06-06T12:20:50.057925Z",
     "iopub.status.busy": "2022-06-06T12:20:50.057452Z",
     "iopub.status.idle": "2022-06-06T12:20:50.214196Z",
     "shell.execute_reply": "2022-06-06T12:20:50.213031Z"
    },
    "papermill": {
     "duration": 0.175433,
     "end_time": "2022-06-06T12:20:50.217115",
     "exception": false,
     "start_time": "2022-06-06T12:20:50.041682",
     "status": "completed"
    },
    "tags": []
   },
   "outputs": [],
   "source": [
    "from sklearn.ensemble import RandomForestRegressor\n",
    "\n",
    "randomforest_model = RandomForestRegressor()"
   ]
  },
  {
   "cell_type": "code",
   "execution_count": 25,
   "id": "30939c85",
   "metadata": {
    "execution": {
     "iopub.execute_input": "2022-06-06T12:20:50.248098Z",
     "iopub.status.busy": "2022-06-06T12:20:50.247439Z",
     "iopub.status.idle": "2022-06-06T12:20:50.253282Z",
     "shell.execute_reply": "2022-06-06T12:20:50.252496Z"
    },
    "papermill": {
     "duration": 0.024069,
     "end_time": "2022-06-06T12:20:50.255341",
     "exception": false,
     "start_time": "2022-06-06T12:20:50.231272",
     "status": "completed"
    },
    "tags": []
   },
   "outputs": [],
   "source": [
    "# 그리디서치 객체 생성\n",
    "rf_params = {\n",
    "    'random_state': [42],\n",
    "    'n_estimators': [100, 120, 140] # 결정트리 개수\n",
    "}\n",
    "\n",
    "gridsearch_randomforest_model = GridSearchCV(randomforest_model, param_grid=rf_params, scoring=rmsle_scorer, cv=5)"
   ]
  },
  {
   "cell_type": "code",
   "execution_count": 26,
   "id": "d1a60798",
   "metadata": {
    "execution": {
     "iopub.execute_input": "2022-06-06T12:20:50.286413Z",
     "iopub.status.busy": "2022-06-06T12:20:50.285739Z",
     "iopub.status.idle": "2022-06-06T12:21:40.765041Z",
     "shell.execute_reply": "2022-06-06T12:21:40.764052Z"
    },
    "papermill": {
     "duration": 50.511632,
     "end_time": "2022-06-06T12:21:40.781144",
     "exception": false,
     "start_time": "2022-06-06T12:20:50.269512",
     "status": "completed"
    },
    "tags": []
   },
   "outputs": [
    {
     "data": {
      "text/plain": [
       "GridSearchCV(cv=5, estimator=RandomForestRegressor(),\n",
       "             param_grid={'n_estimators': [100, 120, 140], 'random_state': [42]},\n",
       "             scoring=make_scorer(rmsle, greater_is_better=False))"
      ]
     },
     "execution_count": 26,
     "metadata": {},
     "output_type": "execute_result"
    }
   ],
   "source": [
    "log_y = np.log(y)\n",
    "gridsearch_randomforest_model.fit(X_train, log_y) "
   ]
  },
  {
   "cell_type": "code",
   "execution_count": 27,
   "id": "a43339bf",
   "metadata": {
    "execution": {
     "iopub.execute_input": "2022-06-06T12:21:40.811392Z",
     "iopub.status.busy": "2022-06-06T12:21:40.810481Z",
     "iopub.status.idle": "2022-06-06T12:21:40.817346Z",
     "shell.execute_reply": "2022-06-06T12:21:40.816176Z"
    },
    "papermill": {
     "duration": 0.024804,
     "end_time": "2022-06-06T12:21:40.819898",
     "exception": false,
     "start_time": "2022-06-06T12:21:40.795094",
     "status": "completed"
    },
    "tags": []
   },
   "outputs": [
    {
     "name": "stdout",
     "output_type": "stream",
     "text": [
      "best parameters :  {'n_estimators': 140, 'random_state': 42}\n",
      "best score :  -0.4616831523768587\n"
     ]
    }
   ],
   "source": [
    "# alpha: 0.1인 경우가 최적인것을 알 수 있음.. 다만 결과는 선형회귀 모델과 별반 다르지 않음\n",
    "print('best parameters : ', gridsearch_randomforest_model.best_params_)\n",
    "print('best score : ', gridsearch_randomforest_model.best_score_)"
   ]
  },
  {
   "cell_type": "markdown",
   "id": "f84db6e9",
   "metadata": {
    "papermill": {
     "duration": 0.013554,
     "end_time": "2022-06-06T12:21:40.847680",
     "exception": false,
     "start_time": "2022-06-06T12:21:40.834126",
     "status": "completed"
    },
    "tags": []
   },
   "source": [
    "### 모델 성능 검증"
   ]
  },
  {
   "cell_type": "code",
   "execution_count": 28,
   "id": "bbc6d05d",
   "metadata": {
    "execution": {
     "iopub.execute_input": "2022-06-06T12:21:40.877801Z",
     "iopub.status.busy": "2022-06-06T12:21:40.877332Z",
     "iopub.status.idle": "2022-06-06T12:21:41.228395Z",
     "shell.execute_reply": "2022-06-06T12:21:41.227340Z"
    },
    "papermill": {
     "duration": 0.368645,
     "end_time": "2022-06-06T12:21:41.230702",
     "exception": false,
     "start_time": "2022-06-06T12:21:40.862057",
     "status": "completed"
    },
    "tags": []
   },
   "outputs": [
    {
     "name": "stdout",
     "output_type": "stream",
     "text": [
      "랜덤포레스트의 RMSLE 값: 0.11265875245404895\n"
     ]
    }
   ],
   "source": [
    "preds = gridsearch_randomforest_model.best_estimator_.predict(X_train)\n",
    "print(f'랜덤포레스트의 RMSLE 값: {rmsle(log_y, preds, True)}')"
   ]
  },
  {
   "cell_type": "markdown",
   "id": "7a8f8ae3",
   "metadata": {
    "papermill": {
     "duration": 0.013673,
     "end_time": "2022-06-06T12:21:41.258491",
     "exception": false,
     "start_time": "2022-06-06T12:21:41.244818",
     "status": "completed"
    },
    "tags": []
   },
   "source": [
    "### 예측 및 결과제출"
   ]
  },
  {
   "cell_type": "code",
   "execution_count": 29,
   "id": "d716b643",
   "metadata": {
    "execution": {
     "iopub.execute_input": "2022-06-06T12:21:41.288907Z",
     "iopub.status.busy": "2022-06-06T12:21:41.288241Z",
     "iopub.status.idle": "2022-06-06T12:21:41.519079Z",
     "shell.execute_reply": "2022-06-06T12:21:41.517925Z"
    },
    "papermill": {
     "duration": 0.249648,
     "end_time": "2022-06-06T12:21:41.522224",
     "exception": false,
     "start_time": "2022-06-06T12:21:41.272576",
     "status": "completed"
    },
    "tags": []
   },
   "outputs": [],
   "source": [
    "randomforest_preds = gridsearch_randomforest_model.best_estimator_.predict(X_test)"
   ]
  },
  {
   "cell_type": "code",
   "execution_count": 30,
   "id": "fd51ae63",
   "metadata": {
    "execution": {
     "iopub.execute_input": "2022-06-06T12:21:41.552843Z",
     "iopub.status.busy": "2022-06-06T12:21:41.552362Z",
     "iopub.status.idle": "2022-06-06T12:21:41.585839Z",
     "shell.execute_reply": "2022-06-06T12:21:41.584801Z"
    },
    "papermill": {
     "duration": 0.051433,
     "end_time": "2022-06-06T12:21:41.588332",
     "exception": false,
     "start_time": "2022-06-06T12:21:41.536899",
     "status": "completed"
    },
    "tags": []
   },
   "outputs": [],
   "source": [
    "submission['count'] = np.exp(randomforest_preds)\n",
    "submission.to_csv('submission.csv', index=False) # Score: 0.395"
   ]
  },
  {
   "cell_type": "code",
   "execution_count": null,
   "id": "1a11a761",
   "metadata": {
    "papermill": {
     "duration": 0.013271,
     "end_time": "2022-06-06T12:21:41.615481",
     "exception": false,
     "start_time": "2022-06-06T12:21:41.602210",
     "status": "completed"
    },
    "tags": []
   },
   "outputs": [],
   "source": []
  }
 ],
 "metadata": {
  "kernelspec": {
   "display_name": "Python 3",
   "language": "python",
   "name": "python3"
  },
  "language_info": {
   "codemirror_mode": {
    "name": "ipython",
    "version": 3
   },
   "file_extension": ".py",
   "mimetype": "text/x-python",
   "name": "python",
   "nbconvert_exporter": "python",
   "pygments_lexer": "ipython3",
   "version": "3.7.12"
  },
  "papermill": {
   "default_parameters": {},
   "duration": 69.481839,
   "end_time": "2022-06-06T12:21:42.752939",
   "environment_variables": {},
   "exception": null,
   "input_path": "__notebook__.ipynb",
   "output_path": "__notebook__.ipynb",
   "parameters": {},
   "start_time": "2022-06-06T12:20:33.271100",
   "version": "2.3.4"
  }
 },
 "nbformat": 4,
 "nbformat_minor": 5
}
