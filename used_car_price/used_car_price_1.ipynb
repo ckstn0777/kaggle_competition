{
  "nbformat": 4,
  "nbformat_minor": 0,
  "metadata": {
    "colab": {
      "name": "used_car_price_1.ipynb",
      "provenance": [],
      "toc_visible": true
    },
    "kernelspec": {
      "name": "python3",
      "display_name": "Python 3"
    },
    "language_info": {
      "name": "python"
    },
    "accelerator": "GPU"
  },
  "cells": [
    {
      "cell_type": "markdown",
      "source": [
        "- 데이콘 중고차 가격 예측 : https://dacon.io/competitions/official/235901/overview/description\n",
        "- 데이터 분석 참고 : https://dacon.io/competitions/official/235901/codeshare/5085\n"
      ],
      "metadata": {
        "id": "cAWYKQ0vEBq6"
      }
    },
    {
      "cell_type": "markdown",
      "source": [
        "## 필수 라이브러리"
      ],
      "metadata": {
        "id": "sOAVgCzfEGn_"
      }
    },
    {
      "cell_type": "code",
      "execution_count": 1,
      "metadata": {
        "id": "sDJ7a4gJDqpN"
      },
      "outputs": [],
      "source": [
        "import numpy as np\n",
        "import pandas as pd\n",
        "import matplotlib.pyplot as plt\n",
        "import seaborn as sns\n",
        "\n",
        "import os\n",
        "from tqdm import tqdm"
      ]
    },
    {
      "cell_type": "markdown",
      "source": [
        "## 데이터 불러오기\n"
      ],
      "metadata": {
        "id": "gRFTWfM1EMKM"
      }
    },
    {
      "cell_type": "code",
      "source": [
        "from google.colab import drive\n",
        "drive.mount('/content/gdrive', force_remount=True)"
      ],
      "metadata": {
        "colab": {
          "base_uri": "https://localhost:8080/"
        },
        "id": "YL4gt03REKTp",
        "outputId": "50ff24c3-d489-45f5-a4cd-8361b5e4be2f"
      },
      "execution_count": 3,
      "outputs": [
        {
          "output_type": "stream",
          "name": "stdout",
          "text": [
            "Mounted at /content/gdrive\n"
          ]
        }
      ]
    },
    {
      "cell_type": "code",
      "source": [
        "cd '/content/gdrive/My Drive/dataset/used_car_price/'"
      ],
      "metadata": {
        "colab": {
          "base_uri": "https://localhost:8080/"
        },
        "id": "El2iwhxkEO7S",
        "outputId": "9c2b89ee-ec9e-4d43-83d0-7a550f4f18f6"
      },
      "execution_count": 4,
      "outputs": [
        {
          "output_type": "stream",
          "name": "stdout",
          "text": [
            "/content/gdrive/My Drive/dataset/used_car_price\n"
          ]
        }
      ]
    },
    {
      "cell_type": "code",
      "source": [
        "# !unzip -qq data.zip"
      ],
      "metadata": {
        "id": "I2XAYI0LEU3p",
        "colab": {
          "base_uri": "https://localhost:8080/"
        },
        "outputId": "62a65593-c089-4e33-8af0-38cd32277ab0"
      },
      "execution_count": 5,
      "outputs": [
        {
          "output_type": "stream",
          "name": "stdout",
          "text": [
            "replace test.csv? [y]es, [n]o, [A]ll, [N]one, [r]ename: "
          ]
        }
      ]
    },
    {
      "cell_type": "code",
      "source": [
        "!ls"
      ],
      "metadata": {
        "colab": {
          "base_uri": "https://localhost:8080/"
        },
        "id": "VZpxTLqtEYJR",
        "outputId": "8f291313-bf97-4ea7-b36e-9006ec20811c"
      },
      "execution_count": 6,
      "outputs": [
        {
          "output_type": "stream",
          "name": "stdout",
          "text": [
            "data.zip  sample_submission.csv  test.csv  train.csv\n"
          ]
        }
      ]
    },
    {
      "cell_type": "markdown",
      "source": [
        "## 데이터 살펴보기"
      ],
      "metadata": {
        "id": "9s3-giLAEaoi"
      }
    },
    {
      "cell_type": "code",
      "source": [
        "train = pd.read_csv('train.csv')\n",
        "test = pd.read_csv('test.csv')\n",
        "submission = pd.read_csv('sample_submission.csv')"
      ],
      "metadata": {
        "id": "yf99h6NfEZEd"
      },
      "execution_count": 7,
      "outputs": []
    },
    {
      "cell_type": "code",
      "source": [
        "train.head()"
      ],
      "metadata": {
        "colab": {
          "base_uri": "https://localhost:8080/",
          "height": 206
        },
        "id": "4zBq2k98Edev",
        "outputId": "04eb4574-8f7e-4946-8c3e-74200faf6b20"
      },
      "execution_count": 8,
      "outputs": [
        {
          "output_type": "execute_result",
          "data": {
            "text/plain": [
              "   id                          title  odometer location    isimported  \\\n",
              "0   0                   Toyota RAV 4     18277   Lagos   Foreign Used   \n",
              "1   1            Toyota Land Cruiser        10    Lagos          New    \n",
              "2   2  Land Rover Range Rover Evoque     83091    Lagos  Foreign Used   \n",
              "3   3                   Lexus ES 350     91524    Lagos  Foreign Used   \n",
              "4   4                   Toyota Venza     94177    Lagos  Foreign Used   \n",
              "\n",
              "           engine transmission    fuel  paint  year    target  \n",
              "0  4-cylinder(I4)    automatic  petrol    Red  2016  13665000  \n",
              "1  4-cylinder(I4)    automatic  petrol  Black  2019  33015000  \n",
              "2  6-cylinder(V6)    automatic  petrol    Red  2012   9915000  \n",
              "3  4-cylinder(I4)    automatic  petrol   Gray  2007   3815000  \n",
              "4  6-cylinder(V6)    automatic  petrol    Red  2010   7385000  "
            ],
            "text/html": [
              "\n",
              "  <div id=\"df-2ebcb65f-c86e-4727-9e9f-298caa73c517\">\n",
              "    <div class=\"colab-df-container\">\n",
              "      <div>\n",
              "<style scoped>\n",
              "    .dataframe tbody tr th:only-of-type {\n",
              "        vertical-align: middle;\n",
              "    }\n",
              "\n",
              "    .dataframe tbody tr th {\n",
              "        vertical-align: top;\n",
              "    }\n",
              "\n",
              "    .dataframe thead th {\n",
              "        text-align: right;\n",
              "    }\n",
              "</style>\n",
              "<table border=\"1\" class=\"dataframe\">\n",
              "  <thead>\n",
              "    <tr style=\"text-align: right;\">\n",
              "      <th></th>\n",
              "      <th>id</th>\n",
              "      <th>title</th>\n",
              "      <th>odometer</th>\n",
              "      <th>location</th>\n",
              "      <th>isimported</th>\n",
              "      <th>engine</th>\n",
              "      <th>transmission</th>\n",
              "      <th>fuel</th>\n",
              "      <th>paint</th>\n",
              "      <th>year</th>\n",
              "      <th>target</th>\n",
              "    </tr>\n",
              "  </thead>\n",
              "  <tbody>\n",
              "    <tr>\n",
              "      <th>0</th>\n",
              "      <td>0</td>\n",
              "      <td>Toyota RAV 4</td>\n",
              "      <td>18277</td>\n",
              "      <td>Lagos</td>\n",
              "      <td>Foreign Used</td>\n",
              "      <td>4-cylinder(I4)</td>\n",
              "      <td>automatic</td>\n",
              "      <td>petrol</td>\n",
              "      <td>Red</td>\n",
              "      <td>2016</td>\n",
              "      <td>13665000</td>\n",
              "    </tr>\n",
              "    <tr>\n",
              "      <th>1</th>\n",
              "      <td>1</td>\n",
              "      <td>Toyota Land Cruiser</td>\n",
              "      <td>10</td>\n",
              "      <td>Lagos</td>\n",
              "      <td>New</td>\n",
              "      <td>4-cylinder(I4)</td>\n",
              "      <td>automatic</td>\n",
              "      <td>petrol</td>\n",
              "      <td>Black</td>\n",
              "      <td>2019</td>\n",
              "      <td>33015000</td>\n",
              "    </tr>\n",
              "    <tr>\n",
              "      <th>2</th>\n",
              "      <td>2</td>\n",
              "      <td>Land Rover Range Rover Evoque</td>\n",
              "      <td>83091</td>\n",
              "      <td>Lagos</td>\n",
              "      <td>Foreign Used</td>\n",
              "      <td>6-cylinder(V6)</td>\n",
              "      <td>automatic</td>\n",
              "      <td>petrol</td>\n",
              "      <td>Red</td>\n",
              "      <td>2012</td>\n",
              "      <td>9915000</td>\n",
              "    </tr>\n",
              "    <tr>\n",
              "      <th>3</th>\n",
              "      <td>3</td>\n",
              "      <td>Lexus ES 350</td>\n",
              "      <td>91524</td>\n",
              "      <td>Lagos</td>\n",
              "      <td>Foreign Used</td>\n",
              "      <td>4-cylinder(I4)</td>\n",
              "      <td>automatic</td>\n",
              "      <td>petrol</td>\n",
              "      <td>Gray</td>\n",
              "      <td>2007</td>\n",
              "      <td>3815000</td>\n",
              "    </tr>\n",
              "    <tr>\n",
              "      <th>4</th>\n",
              "      <td>4</td>\n",
              "      <td>Toyota Venza</td>\n",
              "      <td>94177</td>\n",
              "      <td>Lagos</td>\n",
              "      <td>Foreign Used</td>\n",
              "      <td>6-cylinder(V6)</td>\n",
              "      <td>automatic</td>\n",
              "      <td>petrol</td>\n",
              "      <td>Red</td>\n",
              "      <td>2010</td>\n",
              "      <td>7385000</td>\n",
              "    </tr>\n",
              "  </tbody>\n",
              "</table>\n",
              "</div>\n",
              "      <button class=\"colab-df-convert\" onclick=\"convertToInteractive('df-2ebcb65f-c86e-4727-9e9f-298caa73c517')\"\n",
              "              title=\"Convert this dataframe to an interactive table.\"\n",
              "              style=\"display:none;\">\n",
              "        \n",
              "  <svg xmlns=\"http://www.w3.org/2000/svg\" height=\"24px\"viewBox=\"0 0 24 24\"\n",
              "       width=\"24px\">\n",
              "    <path d=\"M0 0h24v24H0V0z\" fill=\"none\"/>\n",
              "    <path d=\"M18.56 5.44l.94 2.06.94-2.06 2.06-.94-2.06-.94-.94-2.06-.94 2.06-2.06.94zm-11 1L8.5 8.5l.94-2.06 2.06-.94-2.06-.94L8.5 2.5l-.94 2.06-2.06.94zm10 10l.94 2.06.94-2.06 2.06-.94-2.06-.94-.94-2.06-.94 2.06-2.06.94z\"/><path d=\"M17.41 7.96l-1.37-1.37c-.4-.4-.92-.59-1.43-.59-.52 0-1.04.2-1.43.59L10.3 9.45l-7.72 7.72c-.78.78-.78 2.05 0 2.83L4 21.41c.39.39.9.59 1.41.59.51 0 1.02-.2 1.41-.59l7.78-7.78 2.81-2.81c.8-.78.8-2.07 0-2.86zM5.41 20L4 18.59l7.72-7.72 1.47 1.35L5.41 20z\"/>\n",
              "  </svg>\n",
              "      </button>\n",
              "      \n",
              "  <style>\n",
              "    .colab-df-container {\n",
              "      display:flex;\n",
              "      flex-wrap:wrap;\n",
              "      gap: 12px;\n",
              "    }\n",
              "\n",
              "    .colab-df-convert {\n",
              "      background-color: #E8F0FE;\n",
              "      border: none;\n",
              "      border-radius: 50%;\n",
              "      cursor: pointer;\n",
              "      display: none;\n",
              "      fill: #1967D2;\n",
              "      height: 32px;\n",
              "      padding: 0 0 0 0;\n",
              "      width: 32px;\n",
              "    }\n",
              "\n",
              "    .colab-df-convert:hover {\n",
              "      background-color: #E2EBFA;\n",
              "      box-shadow: 0px 1px 2px rgba(60, 64, 67, 0.3), 0px 1px 3px 1px rgba(60, 64, 67, 0.15);\n",
              "      fill: #174EA6;\n",
              "    }\n",
              "\n",
              "    [theme=dark] .colab-df-convert {\n",
              "      background-color: #3B4455;\n",
              "      fill: #D2E3FC;\n",
              "    }\n",
              "\n",
              "    [theme=dark] .colab-df-convert:hover {\n",
              "      background-color: #434B5C;\n",
              "      box-shadow: 0px 1px 3px 1px rgba(0, 0, 0, 0.15);\n",
              "      filter: drop-shadow(0px 1px 2px rgba(0, 0, 0, 0.3));\n",
              "      fill: #FFFFFF;\n",
              "    }\n",
              "  </style>\n",
              "\n",
              "      <script>\n",
              "        const buttonEl =\n",
              "          document.querySelector('#df-2ebcb65f-c86e-4727-9e9f-298caa73c517 button.colab-df-convert');\n",
              "        buttonEl.style.display =\n",
              "          google.colab.kernel.accessAllowed ? 'block' : 'none';\n",
              "\n",
              "        async function convertToInteractive(key) {\n",
              "          const element = document.querySelector('#df-2ebcb65f-c86e-4727-9e9f-298caa73c517');\n",
              "          const dataTable =\n",
              "            await google.colab.kernel.invokeFunction('convertToInteractive',\n",
              "                                                     [key], {});\n",
              "          if (!dataTable) return;\n",
              "\n",
              "          const docLinkHtml = 'Like what you see? Visit the ' +\n",
              "            '<a target=\"_blank\" href=https://colab.research.google.com/notebooks/data_table.ipynb>data table notebook</a>'\n",
              "            + ' to learn more about interactive tables.';\n",
              "          element.innerHTML = '';\n",
              "          dataTable['output_type'] = 'display_data';\n",
              "          await google.colab.output.renderOutput(dataTable, element);\n",
              "          const docLink = document.createElement('div');\n",
              "          docLink.innerHTML = docLinkHtml;\n",
              "          element.appendChild(docLink);\n",
              "        }\n",
              "      </script>\n",
              "    </div>\n",
              "  </div>\n",
              "  "
            ]
          },
          "metadata": {},
          "execution_count": 8
        }
      ]
    },
    {
      "cell_type": "code",
      "source": [
        "test.head()"
      ],
      "metadata": {
        "colab": {
          "base_uri": "https://localhost:8080/",
          "height": 206
        },
        "id": "yx-PDlziEdcb",
        "outputId": "79aeeaee-95bb-48f3-a83d-557e4dfbc613"
      },
      "execution_count": 9,
      "outputs": [
        {
          "output_type": "execute_result",
          "data": {
            "text/plain": [
              "   id                title  odometer location    isimported          engine  \\\n",
              "0   0  Mercedes-Benz C 300      1234    Abuja          New   4-cylinder(I4)   \n",
              "1   1         Honda Accord     29938    Abuja  Foreign Used  4-cylinder(I4)   \n",
              "2   2  Mercedes-Benz S 550     87501    Lagos  Foreign Used  4-cylinder(I4)   \n",
              "3   3        Toyota Sienna    180894    Lagos  Locally used  6-cylinder(V6)   \n",
              "4   4         Toyota Hiace    104814    Lagos  Foreign Used  4-cylinder(I4)   \n",
              "\n",
              "  transmission    fuel      paint  year  \n",
              "0    automatic  petrol      White  2017  \n",
              "1    automatic  petrol      White  2013  \n",
              "2    automatic  petrol      Black  2012  \n",
              "3    automatic  petrol  Dark Grey  2001  \n",
              "4    automatic  petrol      White  2000  "
            ],
            "text/html": [
              "\n",
              "  <div id=\"df-c460b0f7-0ea5-4da5-8470-bad79af60fd3\">\n",
              "    <div class=\"colab-df-container\">\n",
              "      <div>\n",
              "<style scoped>\n",
              "    .dataframe tbody tr th:only-of-type {\n",
              "        vertical-align: middle;\n",
              "    }\n",
              "\n",
              "    .dataframe tbody tr th {\n",
              "        vertical-align: top;\n",
              "    }\n",
              "\n",
              "    .dataframe thead th {\n",
              "        text-align: right;\n",
              "    }\n",
              "</style>\n",
              "<table border=\"1\" class=\"dataframe\">\n",
              "  <thead>\n",
              "    <tr style=\"text-align: right;\">\n",
              "      <th></th>\n",
              "      <th>id</th>\n",
              "      <th>title</th>\n",
              "      <th>odometer</th>\n",
              "      <th>location</th>\n",
              "      <th>isimported</th>\n",
              "      <th>engine</th>\n",
              "      <th>transmission</th>\n",
              "      <th>fuel</th>\n",
              "      <th>paint</th>\n",
              "      <th>year</th>\n",
              "    </tr>\n",
              "  </thead>\n",
              "  <tbody>\n",
              "    <tr>\n",
              "      <th>0</th>\n",
              "      <td>0</td>\n",
              "      <td>Mercedes-Benz C 300</td>\n",
              "      <td>1234</td>\n",
              "      <td>Abuja</td>\n",
              "      <td>New</td>\n",
              "      <td>4-cylinder(I4)</td>\n",
              "      <td>automatic</td>\n",
              "      <td>petrol</td>\n",
              "      <td>White</td>\n",
              "      <td>2017</td>\n",
              "    </tr>\n",
              "    <tr>\n",
              "      <th>1</th>\n",
              "      <td>1</td>\n",
              "      <td>Honda Accord</td>\n",
              "      <td>29938</td>\n",
              "      <td>Abuja</td>\n",
              "      <td>Foreign Used</td>\n",
              "      <td>4-cylinder(I4)</td>\n",
              "      <td>automatic</td>\n",
              "      <td>petrol</td>\n",
              "      <td>White</td>\n",
              "      <td>2013</td>\n",
              "    </tr>\n",
              "    <tr>\n",
              "      <th>2</th>\n",
              "      <td>2</td>\n",
              "      <td>Mercedes-Benz S 550</td>\n",
              "      <td>87501</td>\n",
              "      <td>Lagos</td>\n",
              "      <td>Foreign Used</td>\n",
              "      <td>4-cylinder(I4)</td>\n",
              "      <td>automatic</td>\n",
              "      <td>petrol</td>\n",
              "      <td>Black</td>\n",
              "      <td>2012</td>\n",
              "    </tr>\n",
              "    <tr>\n",
              "      <th>3</th>\n",
              "      <td>3</td>\n",
              "      <td>Toyota Sienna</td>\n",
              "      <td>180894</td>\n",
              "      <td>Lagos</td>\n",
              "      <td>Locally used</td>\n",
              "      <td>6-cylinder(V6)</td>\n",
              "      <td>automatic</td>\n",
              "      <td>petrol</td>\n",
              "      <td>Dark Grey</td>\n",
              "      <td>2001</td>\n",
              "    </tr>\n",
              "    <tr>\n",
              "      <th>4</th>\n",
              "      <td>4</td>\n",
              "      <td>Toyota Hiace</td>\n",
              "      <td>104814</td>\n",
              "      <td>Lagos</td>\n",
              "      <td>Foreign Used</td>\n",
              "      <td>4-cylinder(I4)</td>\n",
              "      <td>automatic</td>\n",
              "      <td>petrol</td>\n",
              "      <td>White</td>\n",
              "      <td>2000</td>\n",
              "    </tr>\n",
              "  </tbody>\n",
              "</table>\n",
              "</div>\n",
              "      <button class=\"colab-df-convert\" onclick=\"convertToInteractive('df-c460b0f7-0ea5-4da5-8470-bad79af60fd3')\"\n",
              "              title=\"Convert this dataframe to an interactive table.\"\n",
              "              style=\"display:none;\">\n",
              "        \n",
              "  <svg xmlns=\"http://www.w3.org/2000/svg\" height=\"24px\"viewBox=\"0 0 24 24\"\n",
              "       width=\"24px\">\n",
              "    <path d=\"M0 0h24v24H0V0z\" fill=\"none\"/>\n",
              "    <path d=\"M18.56 5.44l.94 2.06.94-2.06 2.06-.94-2.06-.94-.94-2.06-.94 2.06-2.06.94zm-11 1L8.5 8.5l.94-2.06 2.06-.94-2.06-.94L8.5 2.5l-.94 2.06-2.06.94zm10 10l.94 2.06.94-2.06 2.06-.94-2.06-.94-.94-2.06-.94 2.06-2.06.94z\"/><path d=\"M17.41 7.96l-1.37-1.37c-.4-.4-.92-.59-1.43-.59-.52 0-1.04.2-1.43.59L10.3 9.45l-7.72 7.72c-.78.78-.78 2.05 0 2.83L4 21.41c.39.39.9.59 1.41.59.51 0 1.02-.2 1.41-.59l7.78-7.78 2.81-2.81c.8-.78.8-2.07 0-2.86zM5.41 20L4 18.59l7.72-7.72 1.47 1.35L5.41 20z\"/>\n",
              "  </svg>\n",
              "      </button>\n",
              "      \n",
              "  <style>\n",
              "    .colab-df-container {\n",
              "      display:flex;\n",
              "      flex-wrap:wrap;\n",
              "      gap: 12px;\n",
              "    }\n",
              "\n",
              "    .colab-df-convert {\n",
              "      background-color: #E8F0FE;\n",
              "      border: none;\n",
              "      border-radius: 50%;\n",
              "      cursor: pointer;\n",
              "      display: none;\n",
              "      fill: #1967D2;\n",
              "      height: 32px;\n",
              "      padding: 0 0 0 0;\n",
              "      width: 32px;\n",
              "    }\n",
              "\n",
              "    .colab-df-convert:hover {\n",
              "      background-color: #E2EBFA;\n",
              "      box-shadow: 0px 1px 2px rgba(60, 64, 67, 0.3), 0px 1px 3px 1px rgba(60, 64, 67, 0.15);\n",
              "      fill: #174EA6;\n",
              "    }\n",
              "\n",
              "    [theme=dark] .colab-df-convert {\n",
              "      background-color: #3B4455;\n",
              "      fill: #D2E3FC;\n",
              "    }\n",
              "\n",
              "    [theme=dark] .colab-df-convert:hover {\n",
              "      background-color: #434B5C;\n",
              "      box-shadow: 0px 1px 3px 1px rgba(0, 0, 0, 0.15);\n",
              "      filter: drop-shadow(0px 1px 2px rgba(0, 0, 0, 0.3));\n",
              "      fill: #FFFFFF;\n",
              "    }\n",
              "  </style>\n",
              "\n",
              "      <script>\n",
              "        const buttonEl =\n",
              "          document.querySelector('#df-c460b0f7-0ea5-4da5-8470-bad79af60fd3 button.colab-df-convert');\n",
              "        buttonEl.style.display =\n",
              "          google.colab.kernel.accessAllowed ? 'block' : 'none';\n",
              "\n",
              "        async function convertToInteractive(key) {\n",
              "          const element = document.querySelector('#df-c460b0f7-0ea5-4da5-8470-bad79af60fd3');\n",
              "          const dataTable =\n",
              "            await google.colab.kernel.invokeFunction('convertToInteractive',\n",
              "                                                     [key], {});\n",
              "          if (!dataTable) return;\n",
              "\n",
              "          const docLinkHtml = 'Like what you see? Visit the ' +\n",
              "            '<a target=\"_blank\" href=https://colab.research.google.com/notebooks/data_table.ipynb>data table notebook</a>'\n",
              "            + ' to learn more about interactive tables.';\n",
              "          element.innerHTML = '';\n",
              "          dataTable['output_type'] = 'display_data';\n",
              "          await google.colab.output.renderOutput(dataTable, element);\n",
              "          const docLink = document.createElement('div');\n",
              "          docLink.innerHTML = docLinkHtml;\n",
              "          element.appendChild(docLink);\n",
              "        }\n",
              "      </script>\n",
              "    </div>\n",
              "  </div>\n",
              "  "
            ]
          },
          "metadata": {},
          "execution_count": 9
        }
      ]
    },
    {
      "cell_type": "code",
      "source": [
        "print('train shape:', train.shape)\n",
        "print('test shape:', test.shape)"
      ],
      "metadata": {
        "colab": {
          "base_uri": "https://localhost:8080/"
        },
        "id": "YjXXwkz3EdZ2",
        "outputId": "968f8e14-ca7f-4a84-a999-e1cb729e974e"
      },
      "execution_count": 10,
      "outputs": [
        {
          "output_type": "stream",
          "name": "stdout",
          "text": [
            "train shape: (1015, 11)\n",
            "test shape: (436, 10)\n"
          ]
        }
      ]
    },
    {
      "cell_type": "code",
      "source": [
        "train.info()"
      ],
      "metadata": {
        "colab": {
          "base_uri": "https://localhost:8080/"
        },
        "id": "azhdaYdPEdXu",
        "outputId": "2a7f4352-b29e-4cd4-aef8-9c669f66e599"
      },
      "execution_count": 11,
      "outputs": [
        {
          "output_type": "stream",
          "name": "stdout",
          "text": [
            "<class 'pandas.core.frame.DataFrame'>\n",
            "RangeIndex: 1015 entries, 0 to 1014\n",
            "Data columns (total 11 columns):\n",
            " #   Column        Non-Null Count  Dtype \n",
            "---  ------        --------------  ----- \n",
            " 0   id            1015 non-null   int64 \n",
            " 1   title         1015 non-null   object\n",
            " 2   odometer      1015 non-null   int64 \n",
            " 3   location      1015 non-null   object\n",
            " 4   isimported    1015 non-null   object\n",
            " 5   engine        1015 non-null   object\n",
            " 6   transmission  1015 non-null   object\n",
            " 7   fuel          1015 non-null   object\n",
            " 8   paint         1015 non-null   object\n",
            " 9   year          1015 non-null   int64 \n",
            " 10  target        1015 non-null   int64 \n",
            "dtypes: int64(4), object(7)\n",
            "memory usage: 87.4+ KB\n"
          ]
        }
      ]
    },
    {
      "cell_type": "code",
      "source": [
        "test.info()"
      ],
      "metadata": {
        "colab": {
          "base_uri": "https://localhost:8080/"
        },
        "id": "90lVlAChEdVf",
        "outputId": "286cb092-d185-4a1c-abec-4992474e3418"
      },
      "execution_count": 12,
      "outputs": [
        {
          "output_type": "stream",
          "name": "stdout",
          "text": [
            "<class 'pandas.core.frame.DataFrame'>\n",
            "RangeIndex: 436 entries, 0 to 435\n",
            "Data columns (total 10 columns):\n",
            " #   Column        Non-Null Count  Dtype \n",
            "---  ------        --------------  ----- \n",
            " 0   id            436 non-null    int64 \n",
            " 1   title         436 non-null    object\n",
            " 2   odometer      436 non-null    int64 \n",
            " 3   location      436 non-null    object\n",
            " 4   isimported    436 non-null    object\n",
            " 5   engine        436 non-null    object\n",
            " 6   transmission  436 non-null    object\n",
            " 7   fuel          436 non-null    object\n",
            " 8   paint         436 non-null    object\n",
            " 9   year          436 non-null    int64 \n",
            "dtypes: int64(3), object(7)\n",
            "memory usage: 34.2+ KB\n"
          ]
        }
      ]
    },
    {
      "cell_type": "markdown",
      "source": [
        "## 중고차 가격(타겟값) 분석\n",
        "\n"
      ],
      "metadata": {
        "id": "VKd_nHXhFAWS"
      }
    },
    {
      "cell_type": "markdown",
      "source": [
        "### 데이터 시각화\n",
        "- 그래프를 봤을때 진짜 일부가 가격대가 매우 높은것을 알 수 있음\n",
        "- 나머지는 다 고만고만한듯"
      ],
      "metadata": {
        "id": "iVOOdprDFErk"
      }
    },
    {
      "cell_type": "code",
      "source": [
        "target = train['target']"
      ],
      "metadata": {
        "id": "FAb-nw4voPUF"
      },
      "execution_count": 17,
      "outputs": []
    },
    {
      "cell_type": "code",
      "source": [
        "# 중고차 가격 분포도 - 왼쪽으로 쏠려있는 형태 주목\n",
        "plt.figure(figsize = (20, 5))\n",
        "sns.displot(target)"
      ],
      "metadata": {
        "colab": {
          "base_uri": "https://localhost:8080/",
          "height": 405
        },
        "id": "TrfI_LtEEdTI",
        "outputId": "dde588df-7022-40ef-f982-6d3bc17adb05"
      },
      "execution_count": 18,
      "outputs": [
        {
          "output_type": "execute_result",
          "data": {
            "text/plain": [
              "<seaborn.axisgrid.FacetGrid at 0x7f0ca9e75d50>"
            ]
          },
          "metadata": {},
          "execution_count": 18
        },
        {
          "output_type": "display_data",
          "data": {
            "text/plain": [
              "<Figure size 1440x360 with 0 Axes>"
            ]
          },
          "metadata": {}
        },
        {
          "output_type": "display_data",
          "data": {
            "text/plain": [
              "<Figure size 360x360 with 1 Axes>"
            ],
            "image/png": "[encoded data removed]"
          },
          "metadata": {
            "needs_background": "light"
          }
        }
      ]
    },
    {
      "cell_type": "code",
      "source": [
        "# 이상치가 분명하게 보임 - 근데 이걸 제거하는게 맞나싶기도하고...\n",
        "# 진짜 어쩌다 한번씩 롤스로이드? 같은 차가 매물로 나올 수도 있는거고, 이상치를 제거해버리면 제대로 예측할 수 있을까?\n",
        "# 근데 찾아보면 이상치 제거는 어쩔 수 없는거 같다.\n",
        "plt.figure(figsize = (15, 5))\n",
        "sns.boxplot(x=target)"
      ],
      "metadata": {
        "colab": {
          "base_uri": "https://localhost:8080/",
          "height": 357
        },
        "id": "oiR4gqdZGYt6",
        "outputId": "3d012bf3-c03e-4ec8-d178-e86f7142051b"
      },
      "execution_count": null,
      "outputs": [
        {
          "output_type": "execute_result",
          "data": {
            "text/plain": [
              "<matplotlib.axes._subplots.AxesSubplot at 0x7f2f9b759e90>"
            ]
          },
          "metadata": {},
          "execution_count": 25
        },
        {
          "output_type": "display_data",
          "data": {
            "text/plain": [
              "<Figure size 1080x360 with 1 Axes>"
            ],
            "image/png": "[encoded data removed]"
          },
          "metadata": {}
        }
      ]
    },
    {
      "cell_type": "markdown",
      "source": [
        "### 평균값과 중간값"
      ],
      "metadata": {
        "id": "SjK3A7VUl4n6"
      }
    },
    {
      "cell_type": "code",
      "source": [
        "# 평균값과 중간값 차이를 보면 수치로 알 수 있음\n",
        "# 상위 몇퍼센트가 평균값을 다 끌어올림\n",
        "print('평균값:', target.mean()) \n",
        "print('중간값:', target.median())\n",
        "print('중간값과 평균값 차이:', target.median() - target.mean())"
      ],
      "metadata": {
        "colab": {
          "base_uri": "https://localhost:8080/"
        },
        "id": "4niM75P6lCY_",
        "outputId": "43262f44-57c9-4ad7-ff80-cd08370960f8"
      },
      "execution_count": 19,
      "outputs": [
        {
          "output_type": "stream",
          "name": "stdout",
          "text": [
            "평균값: 8243204.450246305\n",
            "중간값: 4215000.0\n",
            "중간값과 평균값 차이: -4028204.450246305\n"
          ]
        }
      ]
    },
    {
      "cell_type": "markdown",
      "source": [
        "### 절사평균\n",
        "- 데이터들을 크기 순으로 나열한 후, 양끝에서 일정 비율만큼의 데이터를 삭제한 뒤 남은 값들로 평균을 구하는 방법"
      ],
      "metadata": {
        "id": "SF0ZQztblx0A"
      }
    },
    {
      "cell_type": "code",
      "source": [
        "# 결과를 봤을때 10% 구간에서 크게 평균값이 감소한 것을 볼 수 있음(데이터 분포의 양 옆 10%에 이상치가 위치할 가능성이 높다)\n",
        "from scipy.stats import trim_mean\n",
        "\n",
        "for trim in [0.0, 0.1, 0.15, 0.2, 0.25]:\n",
        "    print(f'{trim*100}% 절사평균 : ',trim_mean(target, trim))"
      ],
      "metadata": {
        "colab": {
          "base_uri": "https://localhost:8080/"
        },
        "id": "j_4SjhjPlzax",
        "outputId": "8e2850df-f7d7-4d79-eab6-e4beb6469511"
      },
      "execution_count": 20,
      "outputs": [
        {
          "output_type": "stream",
          "name": "stdout",
          "text": [
            "0.0% 절사평균 :  8243204.450246305\n",
            "10.0% 절사평균 :  5653857.329643296\n",
            "15.0% 절사평균 :  5252582.29113924\n",
            "20.0% 절사평균 :  4967098.536945812\n",
            "25.0% 절사평균 :  4764495.106090373\n"
          ]
        }
      ]
    },
    {
      "cell_type": "markdown",
      "source": [
        "### 사분위수범위"
      ],
      "metadata": {
        "id": "m38Dk_V3sv29"
      }
    },
    {
      "cell_type": "code",
      "source": [
        "# 최대, 최소, 범위\n",
        "print('최댓값 : ', target.max())\n",
        "print('최솟값 : ', target.min())\n",
        "print('범위 : ', target.max() - target.min())\n",
        "print()\n",
        "\n",
        "# 사분위수 범위\n",
        "print('상위 25% : ', target.quantile(0.75))\n",
        "print('하위 25% : ', target.quantile(0.25))\n",
        "print('사분위수 범위 : ',target.quantile(0.75) - target.quantile(0.25))\n",
        "\n",
        "# 결과를 통해 알수 있는점은 최댓값과 상위 25%값 사이의 차이가 굉장히 크고, 최솟값과 하위 25%값 사이의 차이는 상대적으로 작다는 것이다\n",
        "# 이를 그림을 통해 그려본다면 분포가 좀 치우쳐져있다는 것을 알 수 있을 것이다. "
      ],
      "metadata": {
        "colab": {
          "base_uri": "https://localhost:8080/"
        },
        "id": "wXEy3vL9seB4",
        "outputId": "85165a07-035c-4a0c-a620-46df6c8d3554"
      },
      "execution_count": 23,
      "outputs": [
        {
          "output_type": "stream",
          "name": "stdout",
          "text": [
            "최댓값 :  150015008\n",
            "최솟값 :  400000\n",
            "범위 :  149615008\n",
            "\n",
            "상위 25% :  8927500.0\n",
            "하위 25% :  2535000.0\n",
            "사분위수 범위 :  6392500.0\n"
          ]
        }
      ]
    },
    {
      "cell_type": "markdown",
      "source": [
        "### 왜도와 첨도\n",
        "- 왜도 : 정규분포와 비교해서 확률변수의 분포가 얼마나 치우쳐 있는지의 정도를 나타냄\n",
        "    - 왜도가 0인 경우 확률변수가 정규분포에 가깝습니다.\n",
        "    - 왜도가 양수인 경우 확률분포가 오른쪽으로 치우칩니다.\n",
        "    - 왜도가 음수인 경우 확률분포가 왼쪽으로 치우칩니다.\n",
        "- 첨도 : 첨도(kurtosis)는 양쪽 꼬리의 두터움 정도를 나타내는 값\n",
        "    - 첨도가 3인 경우 확률변수가 정규분포에 가깝습니다.\n",
        "    - 첨도가 3보다 큰 경우 확률분포가 정규분포보다 꼬리가 두껍습니다.\n",
        "    - 첨도가 3보다 작은인 경우 확률분포가 정규분포보다 꼬리가 얇습니다.\n",
        "- 정규분포 : 왜도의 기준을 절대값 2\\~3을 초과하지 않고, 첨도는 절대값 7~8을 초과하지 않으면 정규분포로 볼 수 있다고 제시\n"
      ],
      "metadata": {
        "id": "lyTFbtVatYuF"
      }
    },
    {
      "cell_type": "code",
      "source": [
        "# Dataframe의 skew() 메서드를 사용하면 왜도를 알 수 있다.\n",
        "# 왜도 값이 거의 5에 가깝습니다. 따라서 데이터는 오른쪽으로 매우 치우쳐져 있습니다.\n",
        "print('왜도 : ',target.skew())"
      ],
      "metadata": {
        "colab": {
          "base_uri": "https://localhost:8080/"
        },
        "id": "FKA0dT9ptaaT",
        "outputId": "ec014db5-3db2-4e96-a778-f3cc0371dc62"
      },
      "execution_count": 24,
      "outputs": [
        {
          "output_type": "stream",
          "name": "stdout",
          "text": [
            "왜도 :  4.9552768084421\n"
          ]
        }
      ]
    },
    {
      "cell_type": "code",
      "source": [
        "# Dataframe의 kurt() 메서드를 사용하면 첨도를 알 수 있다.\n",
        "# 첨도가 크다는건 꼬리가 두텁다는 뜻이고 결국 이상치(아웃라이어)가 많다는 뜻이 된다. \n",
        "print('첨도 : ', target.kurt())"
      ],
      "metadata": {
        "colab": {
          "base_uri": "https://localhost:8080/"
        },
        "id": "3bsHX2zduV-Y",
        "outputId": "3eccaa42-1464-4a96-ef62-be6f4bd6d247"
      },
      "execution_count": 25,
      "outputs": [
        {
          "output_type": "stream",
          "name": "stdout",
          "text": [
            "첨도 :  35.55992197898911\n"
          ]
        }
      ]
    },
    {
      "cell_type": "markdown",
      "source": [
        "### 도수분포표\n",
        "- 변수의 범위를 동일한 크기의 계급구간으로 나눈 뒤, 각 구간마다 몇 개의 변수값이 들어가는지 보여주는 기법"
      ],
      "metadata": {
        "id": "ctJvq2ru0Ds8"
      }
    },
    {
      "cell_type": "code",
      "source": [
        "# 계급구간을 8분위로 나눠서 얼마나 데이터가 들어가있는지 파악해보니 처음에 몰려있음을 수치적으로 확인가능\n",
        "binned = pd.cut(target, 8)\n",
        "binned.value_counts()"
      ],
      "metadata": {
        "colab": {
          "base_uri": "https://localhost:8080/"
        },
        "id": "QrQaW1gU0ClO",
        "outputId": "12c72af9-e462-4913-b486-8385eed95b2d"
      },
      "execution_count": 26,
      "outputs": [
        {
          "output_type": "execute_result",
          "data": {
            "text/plain": [
              "(250384.992, 19101876.0]      939\n",
              "(19101876.0, 37803752.0]       40\n",
              "(37803752.0, 56505628.0]       24\n",
              "(56505628.0, 75207504.0]        8\n",
              "(93909380.0, 112611256.0]       2\n",
              "(112611256.0, 131313132.0]      1\n",
              "(131313132.0, 150015008.0]      1\n",
              "(75207504.0, 93909380.0]        0\n",
              "Name: target, dtype: int64"
            ]
          },
          "metadata": {},
          "execution_count": 26
        }
      ]
    },
    {
      "cell_type": "markdown",
      "source": [
        "### 로그정규분포 적용"
      ],
      "metadata": {
        "id": "GT1t_DMeNskV"
      }
    },
    {
      "cell_type": "code",
      "source": [
        "# 왼쪽으로 쏠려있으므로 로그정규분포 적용 - 아쉽게도 약간 치우쳐져 있음\n",
        "target_log = np.log(target)\n",
        "sns.displot(target_log)"
      ],
      "metadata": {
        "colab": {
          "base_uri": "https://localhost:8080/",
          "height": 387
        },
        "id": "lHASiAZTGza9",
        "outputId": "ff0d4e8c-811a-4f60-8ebe-ef19ba7d7146"
      },
      "execution_count": 28,
      "outputs": [
        {
          "output_type": "execute_result",
          "data": {
            "text/plain": [
              "<seaborn.axisgrid.FacetGrid at 0x7f0ca6d19a90>"
            ]
          },
          "metadata": {},
          "execution_count": 28
        },
        {
          "output_type": "display_data",
          "data": {
            "text/plain": [
              "<Figure size 360x360 with 1 Axes>"
            ],
            "image/png": "[encoded data removed]"
          },
          "metadata": {
            "needs_background": "light"
          }
        }
      ]
    },
    {
      "cell_type": "code",
      "source": [
        "# 이상치가 전보다 많이 줄어들었다\n",
        "plt.figure(figsize = (15, 5))\n",
        "sns.boxplot(x=target_log)"
      ],
      "metadata": {
        "colab": {
          "base_uri": "https://localhost:8080/",
          "height": 352
        },
        "id": "L64hrC7DNJ_j",
        "outputId": "c7a23cae-654a-4066-a80c-3d46cfa20149"
      },
      "execution_count": 29,
      "outputs": [
        {
          "output_type": "execute_result",
          "data": {
            "text/plain": [
              "<matplotlib.axes._subplots.AxesSubplot at 0x7f0ca7279a50>"
            ]
          },
          "metadata": {},
          "execution_count": 29
        },
        {
          "output_type": "display_data",
          "data": {
            "text/plain": [
              "<Figure size 1080x360 with 1 Axes>"
            ],
            "image/png": "[encoded data removed]"
          },
          "metadata": {
            "needs_background": "light"
          }
        }
      ]
    },
    {
      "cell_type": "code",
      "source": [
        "# 0에 가까워졌으므로 정규분포라고 볼 수 있음\n",
        "print(target_log.skew()) \n",
        "print(target_log.kurt())"
      ],
      "metadata": {
        "colab": {
          "base_uri": "https://localhost:8080/"
        },
        "id": "7LTCtq1T1tl4",
        "outputId": "7cf28d68-cb29-410a-f875-ba2fd3c5f749"
      },
      "execution_count": 32,
      "outputs": [
        {
          "output_type": "stream",
          "name": "stdout",
          "text": [
            "0.37997125223034134\n",
            "0.32211753773899554\n"
          ]
        }
      ]
    },
    {
      "cell_type": "markdown",
      "source": [
        "### 이상치(Outlier) 제거"
      ],
      "metadata": {
        "id": "gXrnSS9SOWO3"
      }
    },
    {
      "cell_type": "code",
      "source": [
        "# Outlier인 데이터 제거하기\n",
        "\n",
        "# 1분위수 계산\n",
        "Q1 = target_log.quantile(0.25)\n",
        "# 3분위수 계산\n",
        "Q3 = target_log.quantile(0.75)\n",
        "\n",
        "LB = Q1 - 1.5 * (Q3 - Q1) # 아래 수염\n",
        "UB = Q3 + 1.5 * (Q3 - Q1) # 위 윗수염\n",
        "\n",
        "outlier_mask = (target_log > UB) + (target_log < LB)\n",
        "outliers = target_log[outlier_mask]\n",
        "outliers"
      ],
      "metadata": {
        "colab": {
          "base_uri": "https://localhost:8080/"
        },
        "id": "jleG9KJ3N1ta",
        "outputId": "2b886090-d783-4baf-beaf-7d54785e57b6"
      },
      "execution_count": null,
      "outputs": [
        {
          "output_type": "execute_result",
          "data": {
            "text/plain": [
              "332    18.038908\n",
              "341    18.577813\n",
              "423    17.990129\n",
              "432    18.038908\n",
              "569    18.516127\n",
              "597    18.826246\n",
              "672    18.133199\n",
              "736    18.504010\n",
              "774    17.942887\n",
              "827    18.133199\n",
              "Name: target, dtype: float64"
            ]
          },
          "metadata": {},
          "execution_count": 30
        }
      ]
    },
    {
      "cell_type": "code",
      "source": [
        "target_clean_mask = (target_log <= UB) * (target_log >= LB) # 수염 내부의 데이터에 대한 마스크만 가져옵니다.\n",
        "\n",
        "target_clean = target_log[target_clean_mask]\n",
        "target_clean"
      ],
      "metadata": {
        "colab": {
          "base_uri": "https://localhost:8080/"
        },
        "id": "UcQA07M2OCIK",
        "outputId": "f953ef64-5b7d-4cdc-86b7-ac7ea4d11940"
      },
      "execution_count": null,
      "outputs": [
        {
          "output_type": "execute_result",
          "data": {
            "text/plain": [
              "0       16.430348\n",
              "1       17.312473\n",
              "2       16.109559\n",
              "3       15.154451\n",
              "4       15.814961\n",
              "          ...    \n",
              "1010    15.504683\n",
              "1011    15.100602\n",
              "1012    15.043688\n",
              "1013    16.476818\n",
              "1014    16.119595\n",
              "Name: target, Length: 1005, dtype: float64"
            ]
          },
          "metadata": {},
          "execution_count": 31
        }
      ]
    },
    {
      "cell_type": "code",
      "source": [
        "sns.displot(target_clean)"
      ],
      "metadata": {
        "colab": {
          "base_uri": "https://localhost:8080/",
          "height": 383
        },
        "id": "KPQncy_BOG5l",
        "outputId": "e27913dd-1e20-4891-951b-4401e2490061"
      },
      "execution_count": null,
      "outputs": [
        {
          "output_type": "execute_result",
          "data": {
            "text/plain": [
              "<seaborn.axisgrid.FacetGrid at 0x7f2f9b0f7950>"
            ]
          },
          "metadata": {},
          "execution_count": 32
        },
        {
          "output_type": "display_data",
          "data": {
            "text/plain": [
              "<Figure size 360x360 with 1 Axes>"
            ],
            "image/png": "[encoded data removed]"
          },
          "metadata": {}
        }
      ]
    },
    {
      "cell_type": "code",
      "source": [
        "plt.figure(figsize = (15, 5))\n",
        "sns.boxplot(x=target_clean)"
      ],
      "metadata": {
        "colab": {
          "base_uri": "https://localhost:8080/",
          "height": 357
        },
        "id": "a04qEIrZOKeK",
        "outputId": "4749f467-964a-4c74-e8b4-438565ee8292"
      },
      "execution_count": null,
      "outputs": [
        {
          "output_type": "execute_result",
          "data": {
            "text/plain": [
              "<matplotlib.axes._subplots.AxesSubplot at 0x7f2f9afeb050>"
            ]
          },
          "metadata": {},
          "execution_count": 34
        },
        {
          "output_type": "display_data",
          "data": {
            "text/plain": [
              "<Figure size 1080x360 with 1 Axes>"
            ],
            "image/png": "[encoded data removed]"
          },
          "metadata": {}
        }
      ]
    },
    {
      "cell_type": "code",
      "source": [
        "train_clean = train[target_clean_mask]\n",
        "train_outlier = train[~target_clean_mask]\n",
        "\n",
        "print('정제된 데이터의 수 : ', len(train_clean))\n",
        "print('이상치의 수 : ', len(train_outlier))"
      ],
      "metadata": {
        "colab": {
          "base_uri": "https://localhost:8080/"
        },
        "id": "liW21TNtOOeI",
        "outputId": "cb9ac2b7-eea0-447f-b828-b1d960d99dda"
      },
      "execution_count": null,
      "outputs": [
        {
          "output_type": "stream",
          "name": "stdout",
          "text": [
            "정제된 데이터의 수 :  1005\n",
            "이상치의 수 :  10\n"
          ]
        }
      ]
    },
    {
      "cell_type": "markdown",
      "source": [
        "## 수치형 데이터 분석\n",
        "- 카테고리(분류)형 변수 반대이다\n",
        "- 수치형 데이터는 연속형(실수)와 이산형(정수)로 나뉜다.\n",
        "- 주행거리가 연속형이고, 제조년도가 이산형이 된다."
      ],
      "metadata": {
        "id": "EHvVplMEQeW6"
      }
    },
    {
      "cell_type": "code",
      "source": [
        "# 수치형변수 불러오기\n",
        "odometer = train_clean.odometer\n",
        "year = train_clean.year"
      ],
      "metadata": {
        "id": "UYxYwW8QOrXz"
      },
      "execution_count": null,
      "outputs": []
    },
    {
      "cell_type": "markdown",
      "source": [
        "### 주행거리 분석"
      ],
      "metadata": {
        "id": "WxEZighHQ-7E"
      }
    },
    {
      "cell_type": "code",
      "source": [
        "# 주행거리도 보면 이상치가 좀 있네.. 상당히 많이 주행한 차들\n",
        "plt.figure(figsize = (20, 5))\n",
        "sns.displot(odometer)"
      ],
      "metadata": {
        "colab": {
          "base_uri": "https://localhost:8080/",
          "height": 401
        },
        "id": "U-NHXTypQ-cY",
        "outputId": "df8565ba-b5a3-4f87-f095-da6dadd04b55"
      },
      "execution_count": null,
      "outputs": [
        {
          "output_type": "execute_result",
          "data": {
            "text/plain": [
              "<seaborn.axisgrid.FacetGrid at 0x7f2f9af5d190>"
            ]
          },
          "metadata": {},
          "execution_count": 37
        },
        {
          "output_type": "display_data",
          "data": {
            "text/plain": [
              "<Figure size 1440x360 with 0 Axes>"
            ]
          },
          "metadata": {}
        },
        {
          "output_type": "display_data",
          "data": {
            "text/plain": [
              "<Figure size 360x360 with 1 Axes>"
            ],
            "image/png": "[encoded data removed]"
          },
          "metadata": {}
        }
      ]
    },
    {
      "cell_type": "code",
      "source": [
        "# 신기한건 주행거리가 0인 매물도 있는거 같다. 실제 0인 미개봉중고인지 아니면 주행거리 측정오류로 0이 된건지는 모르겠음. \n",
        "# 어찌됐건 0인 매물도 이상치로 보는게 좋을듯하다\n",
        "plt.figure(figsize = (15, 5))\n",
        "sns.boxplot(x=odometer)"
      ],
      "metadata": {
        "colab": {
          "base_uri": "https://localhost:8080/",
          "height": 357
        },
        "id": "qc5v06zhRGdg",
        "outputId": "062b73dd-caa6-49e8-b701-63c184ddb9f1"
      },
      "execution_count": null,
      "outputs": [
        {
          "output_type": "execute_result",
          "data": {
            "text/plain": [
              "<matplotlib.axes._subplots.AxesSubplot at 0x7f2f9ae06e90>"
            ]
          },
          "metadata": {},
          "execution_count": 38
        },
        {
          "output_type": "display_data",
          "data": {
            "text/plain": [
              "<Figure size 1080x360 with 1 Axes>"
            ],
            "image/png": "[encoded data removed]"
          },
          "metadata": {}
        }
      ]
    },
    {
      "cell_type": "code",
      "source": [
        "len(train_clean[odometer == 0])"
      ],
      "metadata": {
        "colab": {
          "base_uri": "https://localhost:8080/"
        },
        "id": "F4uPXzEzRbzb",
        "outputId": "ed3f2082-122b-491c-efcf-518bd9192d88"
      },
      "execution_count": null,
      "outputs": [
        {
          "output_type": "execute_result",
          "data": {
            "text/plain": [
              "21"
            ]
          },
          "metadata": {},
          "execution_count": 39
        }
      ]
    },
    {
      "cell_type": "markdown",
      "source": [
        "### 제작년도 분석"
      ],
      "metadata": {
        "id": "_IiDNveiR7Wf"
      }
    },
    {
      "cell_type": "code",
      "source": [
        "# 제작년도는 거의 분류형이라고 봐도 무방할듯\n",
        "# 제작년도별 타겟값을 그래프로 나타내봤는데 역시 최신 모델이 비싸게 거래되는 걸 알 수 있음\n",
        "# 근데 뜬금없이 1217, 1218 이란 이상한 년도가 있음. 이건 제거해줘야겠음\n",
        "sns.barplot(x='year', y='target', data=train)"
      ],
      "metadata": {
        "colab": {
          "base_uri": "https://localhost:8080/",
          "height": 501
        },
        "id": "uJTkbOG-R0Rf",
        "outputId": "f9f8d3bf-36af-46d9-faa1-4a57ea7ff19d"
      },
      "execution_count": null,
      "outputs": [
        {
          "output_type": "execute_result",
          "data": {
            "text/plain": [
              "<matplotlib.axes._subplots.AxesSubplot at 0x7f2f9b07dc50>"
            ]
          },
          "metadata": {},
          "execution_count": 45
        },
        {
          "output_type": "display_data",
          "data": {
            "text/plain": [
              "<Figure size 1440x576 with 1 Axes>"
            ],
            "image/png": "[encoded data removed]"
          },
          "metadata": {}
        }
      ]
    },
    {
      "cell_type": "code",
      "source": [
        "train_clean = train_clean[year > 1218]"
      ],
      "metadata": {
        "id": "XvIupez_SeSR"
      },
      "execution_count": null,
      "outputs": []
    },
    {
      "cell_type": "markdown",
      "source": [
        "### 타겟값과의 상관관계 분석"
      ],
      "metadata": {
        "id": "NbXfYyV5TxuB"
      }
    },
    {
      "cell_type": "code",
      "source": [
        "# 상관관계를 보면 주행거리와 가격은 음의 관계(반비례), 제작년도와 가격은 양의 관계(비례)를 보이는 것을 알 수 있음\n",
        "corrMat = train_clean[['odometer', 'year', 'target']].corr()\n",
        "plt.figure(figsize = (10, 10))\n",
        "sns.heatmap(corrMat, annot=True)"
      ],
      "metadata": {
        "colab": {
          "base_uri": "https://localhost:8080/",
          "height": 616
        },
        "id": "9QC8REkQTxGW",
        "outputId": "1ad26c9a-b7dc-4741-c622-88656196ec6f"
      },
      "execution_count": null,
      "outputs": [
        {
          "output_type": "execute_result",
          "data": {
            "text/plain": [
              "<matplotlib.axes._subplots.AxesSubplot at 0x7f2f9a8e50d0>"
            ]
          },
          "metadata": {},
          "execution_count": 53
        },
        {
          "output_type": "display_data",
          "data": {
            "text/plain": [
              "<Figure size 720x720 with 2 Axes>"
            ],
            "image/png": "[encoded data removed]"
          },
          "metadata": {}
        }
      ]
    },
    {
      "cell_type": "markdown",
      "source": [
        "## 분류형 데이터 분석"
      ],
      "metadata": {
        "id": "pxwDRxdUVEjj"
      }
    },
    {
      "cell_type": "markdown",
      "source": [
        "### 페인트 색상 분석 및 전처리"
      ],
      "metadata": {
        "id": "npr-VTH_5CWP"
      }
    },
    {
      "cell_type": "code",
      "source": [
        "# 페인트 데이터를 보니까 Black하나만 해도 대소문자나 띄어쓰기 때문에 여러개가 보인다..\n",
        "# 이를 좀 전처리해서 통일시켜줄 필요가 있어보인다\n",
        "sorted(train['paint'].unique())"
      ],
      "metadata": {
        "id": "xPksZnSTS_l2",
        "colab": {
          "base_uri": "https://localhost:8080/"
        },
        "outputId": "7e96af80-9bb4-4aa1-edfb-6b4e6c368dba"
      },
      "execution_count": 34,
      "outputs": [
        {
          "output_type": "execute_result",
          "data": {
            "text/plain": [
              "[' Black',\n",
              " ' Black/Red',\n",
              " 'Ash',\n",
              " 'Ash and black',\n",
              " 'BLACK',\n",
              " 'Beige',\n",
              " 'Black',\n",
              " 'Black ',\n",
              " 'Black and silver',\n",
              " 'Black sand pearl',\n",
              " 'Black.',\n",
              " 'Blue',\n",
              " 'Blue ',\n",
              " 'Brown',\n",
              " 'Cream',\n",
              " 'Cream ',\n",
              " 'DARK GREY',\n",
              " 'Dark Ash',\n",
              " 'Dark Blue',\n",
              " 'Dark Green',\n",
              " 'Dark Grey',\n",
              " 'Dark ash',\n",
              " 'Dark blue ',\n",
              " 'Dark gray',\n",
              " 'Dark silver ',\n",
              " 'Deep Blue',\n",
              " 'Deep blue',\n",
              " 'GOLD',\n",
              " 'Gery',\n",
              " 'Gold',\n",
              " 'Gold ',\n",
              " 'Gray',\n",
              " 'Gray ',\n",
              " 'Green',\n",
              " 'Green ',\n",
              " 'Grey',\n",
              " 'Grey ',\n",
              " 'Ink blue',\n",
              " 'Light Gold',\n",
              " 'Light blue',\n",
              " 'Light silver ',\n",
              " 'Magnetic Gray',\n",
              " 'Magnetic Gray Metallic',\n",
              " 'Maroon',\n",
              " 'Midnight Black Metal',\n",
              " 'Milk',\n",
              " 'Navy blue',\n",
              " 'Off white',\n",
              " 'Off white l',\n",
              " 'Pale brown',\n",
              " 'Purple',\n",
              " 'Red',\n",
              " 'Redl',\n",
              " 'SILVER',\n",
              " 'Silver',\n",
              " 'Silver ',\n",
              " 'Silver/grey',\n",
              " 'Sky blue',\n",
              " 'Skye blue',\n",
              " 'Sliver',\n",
              " 'Super White',\n",
              " 'WHITE',\n",
              " 'WINE',\n",
              " 'Whine ',\n",
              " 'White',\n",
              " 'White ',\n",
              " 'White orchild pearl',\n",
              " 'Wine',\n",
              " 'Yellow',\n",
              " 'blue',\n",
              " 'green',\n",
              " 'orange',\n",
              " 'red',\n",
              " 'white',\n",
              " 'white-blue',\n",
              " 'yellow']"
            ]
          },
          "metadata": {},
          "execution_count": 34
        }
      ]
    },
    {
      "cell_type": "code",
      "source": [
        "import re \n",
        "\n",
        "def clean_text(texts): \n",
        "    corpus = [] \n",
        "    for i in range(0, len(texts)): \n",
        "        review = re.sub(r'[@%\\\\*=()/~#&\\+á?\\xc3\\xa1\\-\\|\\.\\:\\;\\!\\-\\,\\_\\~\\$\\'\\\"\\n\\]\\[\\>\\<]', '',texts[i]) #@%*=()/+ 와 같은 문장부호 제거\n",
        "        review = re.sub(r'\\d+','',review)#숫자 제거\n",
        "        review = review.lower() #소문자 변환\n",
        "        review = re.sub(r'\\s+', ' ', review) #extra space 제거\n",
        "        review = re.sub(r'<[^>]+>','',review) #Html tags 제거\n",
        "        review = re.sub(r'\\s+', ' ', review) #spaces 제거\n",
        "        review = re.sub(r\"^\\s+\", '', review) #space from start 제거\n",
        "        review = re.sub(r'\\s+$', '', review) #space from the end 제거\n",
        "        review = re.sub(r'_', ' ', review) #space from the end 제거\n",
        "        corpus.append(review) \n",
        "        \n",
        "    return corpus"
      ],
      "metadata": {
        "id": "4Ydirc0t5OoP"
      },
      "execution_count": 35,
      "outputs": []
    },
    {
      "cell_type": "code",
      "source": [
        "temp = clean_text(train['paint'])\n",
        "train['paint'] = temp"
      ],
      "metadata": {
        "id": "OW7xCcOH55DU"
      },
      "execution_count": 36,
      "outputs": []
    },
    {
      "cell_type": "code",
      "source": [
        "# 전처리하니까 마음이 편안해진다\n",
        "train['paint'].unique()"
      ],
      "metadata": {
        "colab": {
          "base_uri": "https://localhost:8080/"
        },
        "id": "1FZCs-Ed6DKd",
        "outputId": "72480dd8-7312-4b62-8508-da93b7e03cb4"
      },
      "execution_count": 37,
      "outputs": [
        {
          "output_type": "execute_result",
          "data": {
            "text/plain": [
              "array(['red', 'black', 'gray', 'white', 'blue', 'redl', 'silver',\n",
              "       'blackred', 'deep blue', 'dark grey', 'brown', 'grey', 'green',\n",
              "       'purple', 'gold', 'dark blue', 'milk', 'midnight black metal',\n",
              "       'beige', 'dark ash', 'orange', 'cream', 'dark gray', 'sliver',\n",
              "       'white orchild pearl', 'dark green', 'yellow', 'light gold',\n",
              "       'wine', 'whiteblue', 'magnetic gray', 'dark silver', 'silvergrey',\n",
              "       'ink blue', 'light blue', 'sky blue', 'gery', 'pale brown',\n",
              "       'whine', 'black and silver', 'light silver', 'black sand pearl',\n",
              "       'off white', 'ash', 'maroon', 'navy blue', 'super white',\n",
              "       'ash and black', 'magnetic gray metallic', 'skye blue',\n",
              "       'off white l'], dtype=object)"
            ]
          },
          "metadata": {},
          "execution_count": 37
        }
      ]
    },
    {
      "cell_type": "code",
      "source": [
        "# deep blue, ink blue, navy blue 같은거는 그냥 blue로 통일시키는 것처럼 몇가지 색상으로 통일시켜줌\n",
        "# 근데 black and sliver 같은 경우는 좀 애매하네...\n",
        "train['paint'] = train['paint'].apply(lambda x : 'blue' if x.find('blue') >= 0 else x)\n",
        "train['paint'] = train['paint'].apply(lambda x : 'red' if x.find('red') >= 0 else x)\n",
        "train['paint'] = train['paint'].apply(lambda x : 'green' if x.find('green') >= 0 else x)\n",
        "train['paint'] = train['paint'].apply(lambda x : 'black' if x.find('black') >= 0 else x)\n",
        "train['paint'] = train['paint'].apply(lambda x : 'white' if x.find('white') >= 0 else x)\n",
        "train['paint'] = train['paint'].apply(lambda x : 'grey' if x.find('grey') >= 0 else x)\n",
        "train['paint'] = train['paint'].apply(lambda x : 'grey' if x.find('gery') >= 0 else x)\n",
        "train['paint'] = train['paint'].apply(lambda x : 'grey' if x.find('gray') >= 0 else x)\n",
        "train['paint'] = train['paint'].apply(lambda x : 'ash' if x.find('ash') >= 0 else x)\n",
        "train['paint'] = train['paint'].apply(lambda x : 'brown' if x.find('brown') >= 0 else x)\n",
        "train['paint'] = train['paint'].apply(lambda x : 'silver' if x.find('silver') >= 0 else x)\n",
        "train['paint'] = train['paint'].apply(lambda x : 'silver' if x.find('sliver') >= 0 else x)\n",
        "train['paint'] = train['paint'].apply(lambda x : 'gold' if x.find('gold') >= 0 else x)\n",
        "train['paint'] = train['paint'].apply(lambda x : 'wine' if x.find('whine') >= 0 else x)"
      ],
      "metadata": {
        "id": "lpK9dzwU6F0s"
      },
      "execution_count": 38,
      "outputs": []
    },
    {
      "cell_type": "code",
      "source": [
        "train['paint'].unique()"
      ],
      "metadata": {
        "colab": {
          "base_uri": "https://localhost:8080/"
        },
        "id": "2IqdXRWE641t",
        "outputId": "b778a5ca-6b19-4866-a9e4-2c82f004e479"
      },
      "execution_count": 39,
      "outputs": [
        {
          "output_type": "execute_result",
          "data": {
            "text/plain": [
              "array(['red', 'black', 'grey', 'white', 'blue', 'silver', 'brown',\n",
              "       'green', 'purple', 'gold', 'milk', 'beige', 'ash', 'orange',\n",
              "       'cream', 'yellow', 'wine', 'maroon'], dtype=object)"
            ]
          },
          "metadata": {},
          "execution_count": 39
        }
      ]
    },
    {
      "cell_type": "code",
      "source": [
        "plt.figure(figsize = (15, 5))\n",
        "sns.countplot(x='paint', data=train)"
      ],
      "metadata": {
        "colab": {
          "base_uri": "https://localhost:8080/",
          "height": 352
        },
        "id": "QV9Lu_Pf66bf",
        "outputId": "8f7159a2-d8ed-4ef4-d92c-4e2b85b0f745"
      },
      "execution_count": 43,
      "outputs": [
        {
          "output_type": "execute_result",
          "data": {
            "text/plain": [
              "<matplotlib.axes._subplots.AxesSubplot at 0x7f0ca68e7150>"
            ]
          },
          "metadata": {},
          "execution_count": 43
        },
        {
          "output_type": "display_data",
          "data": {
            "text/plain": [
              "<Figure size 1080x360 with 1 Axes>"
            ],
            "image/png": "[encoded data removed]"
          },
          "metadata": {
            "needs_background": "light"
          }
        }
      ]
    },
    {
      "cell_type": "markdown",
      "source": [
        "### 차량 엔진 분석"
      ],
      "metadata": {
        "id": "GB-NJ-i29Kx3"
      }
    },
    {
      "cell_type": "code",
      "source": [
        "train['engine'].unique()"
      ],
      "metadata": {
        "colab": {
          "base_uri": "https://localhost:8080/"
        },
        "id": "6UwBciRJ7kuv",
        "outputId": "2f8a9682-6f8c-4c35-90ec-37ea51c7ec7b"
      },
      "execution_count": 44,
      "outputs": [
        {
          "output_type": "execute_result",
          "data": {
            "text/plain": [
              "array(['4-cylinder(I4)', '6-cylinder(V6)', '8-cylinder(V8)',\n",
              "       '6-cylinder(I6)', '4-cylinder(H4)', '5-cylinder(I5)',\n",
              "       '3-cylinder(I3)', '2-cylinder(I2)'], dtype=object)"
            ]
          },
          "metadata": {},
          "execution_count": 44
        }
      ]
    },
    {
      "cell_type": "code",
      "source": [
        "# 훈련데이터에 없는 12-cylinder(V12)는 어쩔수없을듯... 훈련데이터셋을 보강하던가 그래야하지 않나\n",
        "test['engine'].unique()"
      ],
      "metadata": {
        "colab": {
          "base_uri": "https://localhost:8080/"
        },
        "id": "UOk7pGQt9udZ",
        "outputId": "5936a058-a51a-45af-b8c2-59f385946da6"
      },
      "execution_count": 45,
      "outputs": [
        {
          "output_type": "execute_result",
          "data": {
            "text/plain": [
              "array(['4-cylinder(I4)', '6-cylinder(V6)', '6-cylinder(I6)',\n",
              "       '8-cylinder(V8)', '5-cylinder(I5)', '2-cylinder(I2)',\n",
              "       '12-cylinder(V12)', '3-cylinder(I3)'], dtype=object)"
            ]
          },
          "metadata": {},
          "execution_count": 45
        }
      ]
    },
    {
      "cell_type": "code",
      "source": [
        "# 음... 엔진별로 가격차이가 있는걸로 봐서 연관은 있어보이는데\n",
        "plt.figure(figsize = (15, 5))\n",
        "sns.barplot(data=train, x='engine', y='target', estimator=np.median)"
      ],
      "metadata": {
        "colab": {
          "base_uri": "https://localhost:8080/",
          "height": 363
        },
        "id": "sHPQyZPMAVEH",
        "outputId": "66d2ce91-a592-41b9-dca7-9cf4608d8eda"
      },
      "execution_count": 53,
      "outputs": [
        {
          "output_type": "execute_result",
          "data": {
            "text/plain": [
              "<matplotlib.axes._subplots.AxesSubplot at 0x7f0ca645dc10>"
            ]
          },
          "metadata": {},
          "execution_count": 53
        },
        {
          "output_type": "display_data",
          "data": {
            "text/plain": [
              "<Figure size 1080x360 with 1 Axes>"
            ],
            "image/png": "[encoded data removed]"
          },
          "metadata": {
            "needs_background": "light"
          }
        }
      ]
    },
    {
      "cell_type": "markdown",
      "source": [
        "### 연료 분석"
      ],
      "metadata": {
        "id": "lNF2I36U-kX2"
      }
    },
    {
      "cell_type": "code",
      "source": [
        "train['fuel'].unique()"
      ],
      "metadata": {
        "colab": {
          "base_uri": "https://localhost:8080/"
        },
        "id": "YwBw8V6z-i3R",
        "outputId": "175647a2-a659-42cf-bccf-a00cce08611a"
      },
      "execution_count": 47,
      "outputs": [
        {
          "output_type": "execute_result",
          "data": {
            "text/plain": [
              "array(['petrol', 'diesel'], dtype=object)"
            ]
          },
          "metadata": {},
          "execution_count": 47
        }
      ]
    },
    {
      "cell_type": "code",
      "source": [
        "test['fuel'].unique()"
      ],
      "metadata": {
        "colab": {
          "base_uri": "https://localhost:8080/"
        },
        "id": "fHOJ9BsM9wMR",
        "outputId": "febb076f-d85c-4d94-d846-f375f6c30358"
      },
      "execution_count": 49,
      "outputs": [
        {
          "output_type": "execute_result",
          "data": {
            "text/plain": [
              "array(['petrol', 'diesel'], dtype=object)"
            ]
          },
          "metadata": {},
          "execution_count": 49
        }
      ]
    },
    {
      "cell_type": "code",
      "source": [
        "# 연료랑 중고차 가격이랑 상관관계가 있을까? 중간값으로 봤을때 디젤이 가솔린보다 좀 더 비싼듯(실제 찾아보니까 그런듯)\n",
        "sns.barplot(data=train, x='fuel', y='target', estimator=np.median)"
      ],
      "metadata": {
        "colab": {
          "base_uri": "https://localhost:8080/",
          "height": 308
        },
        "id": "f-J2XOa3-0Fi",
        "outputId": "626ea5fb-814d-427f-b03d-1ae9174de31a"
      },
      "execution_count": 51,
      "outputs": [
        {
          "output_type": "execute_result",
          "data": {
            "text/plain": [
              "<matplotlib.axes._subplots.AxesSubplot at 0x7f0ca6573090>"
            ]
          },
          "metadata": {},
          "execution_count": 51
        },
        {
          "output_type": "display_data",
          "data": {
            "text/plain": [
              "<Figure size 432x288 with 1 Axes>"
            ],
            "image/png": "[encoded data removed]"
          },
          "metadata": {
            "needs_background": "light"
          }
        }
      ]
    },
    {
      "cell_type": "markdown",
      "source": [
        "### 브랜드 분석 및 전처리"
      ],
      "metadata": {
        "id": "v_dwEUXeB7oO"
      }
    },
    {
      "cell_type": "code",
      "source": [
        ""
      ],
      "metadata": {
        "id": "wbh8xIjo_Nkc"
      },
      "execution_count": null,
      "outputs": []
    }
  ]
}